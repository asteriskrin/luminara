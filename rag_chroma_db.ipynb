{
 "cells": [
  {
   "cell_type": "markdown",
   "metadata": {},
   "source": [
    "# Building Chroma DB for Retriever\n",
    "\n",
    "This notebook is used to create vector data in Chroma DB for the retriever."
   ]
  },
  {
   "cell_type": "code",
   "execution_count": null,
   "metadata": {},
   "outputs": [],
   "source": [
    "import copy\n",
    "import glob\n",
    "import os\n",
    "import random\n",
    "from langchain_chroma import Chroma\n",
    "from langchain_community.document_loaders import PyPDFLoader\n",
    "from langchain_ollama import ChatOllama\n",
    "from langchain_ollama import OllamaEmbeddings\n",
    "from langchain.retrievers.multi_query import MultiQueryRetriever\n",
    "from langchain_text_splitters import RecursiveCharacterTextSplitter"
   ]
  },
  {
   "cell_type": "code",
   "execution_count": 52,
   "metadata": {},
   "outputs": [],
   "source": [
    "os.environ[\"USER_AGENT\"] = \"llm-retriever-and-tavily/0.1\""
   ]
  },
  {
   "cell_type": "code",
   "execution_count": 53,
   "metadata": {},
   "outputs": [],
   "source": [
    "# Embeddings\n",
    "embeddings = OllamaEmbeddings(\n",
    "    model=\"nomic-embed-text\",\n",
    ")\n",
    "# Chunking strategy\n",
    "text_splitter = RecursiveCharacterTextSplitter(\n",
    "    chunk_size=192, \n",
    "    chunk_overlap=32,\n",
    "    separators=[\"\\n\\n\", \"\\n\"]\n",
    ")"
   ]
  },
  {
   "cell_type": "code",
   "execution_count": 54,
   "metadata": {},
   "outputs": [
    {
     "name": "stdout",
     "output_type": "stream",
     "text": [
      "Processing data/document\\Harry Potter And The Deathly Hallows.pdf\n",
      "Processing data/document\\Solo Leveling Volume 01 - PDF Room.pdf\n",
      "Processing data/document\\Sword Art Online - Volume 01 - Aincrad.pdf\n",
      "Processing data/document\\The Complete Sherlock Holmes.pdf\n",
      "Processing data/document\\The Hunger Games (The Hunger Games, Book 1) - PDF Room.pdf\n"
     ]
    }
   ],
   "source": [
    "# Load documents\n",
    "documents_path = \"data/document/*\"\n",
    "filepaths = glob.glob(documents_path)\n",
    "documents = []\n",
    "for filepath in filepaths:\n",
    "    print(f\"Processing {filepath}\")\n",
    "    loader = PyPDFLoader(filepath)\n",
    "    docs = loader.load()\n",
    "    splits = text_splitter.split_documents(docs)\n",
    "    documents.extend(splits)"
   ]
  },
  {
   "cell_type": "code",
   "execution_count": 55,
   "metadata": {},
   "outputs": [
    {
     "data": {
      "text/plain": [
       "39142"
      ]
     },
     "execution_count": 55,
     "metadata": {},
     "output_type": "execute_result"
    }
   ],
   "source": [
    "# Check the length of the documents\n",
    "len(documents)"
   ]
  },
  {
   "cell_type": "code",
   "execution_count": 56,
   "metadata": {},
   "outputs": [
    {
     "data": {
      "text/plain": [
       "Document(metadata={'producer': '', 'creator': '', 'creationdate': '2014-03-15T14:16:40+01:00', 'author': '', 'title': '', 'subject': '', 'keywords': '', 'moddate': '2014-03-15T14:16:40+01:00', 'trapped': '/False', 'ptex.fullbanner': 'This is pdfTeX, Version 3.1415926-2.5-1.40.14 (TeX Live 2013/MacPorts 2013_5) kpathsea version 6.1.1', 'source': 'data/document\\\\The Complete Sherlock Holmes.pdf', 'total_pages': 987, 'page': 929, 'page_label': '924'}, page_content='served as the local police-station. A walk of half a\\nmile or so across a wind-swept heath, all gold and\\nbronze with the fading ferns, brought us to a side-gate')"
      ]
     },
     "metadata": {},
     "output_type": "display_data"
    },
    {
     "data": {
      "text/plain": [
       "Document(metadata={'producer': '', 'creator': '', 'creationdate': '2014-03-15T14:16:40+01:00', 'author': '', 'title': '', 'subject': '', 'keywords': '', 'moddate': '2014-03-15T14:16:40+01:00', 'trapped': '/False', 'ptex.fullbanner': 'This is pdfTeX, Version 3.1415926-2.5-1.40.14 (TeX Live 2013/MacPorts 2013_5) kpathsea version 6.1.1', 'source': 'data/document\\\\The Complete Sherlock Holmes.pdf', 'total_pages': 987, 'page': 926, 'page_label': '921'}, page_content='and it’s up to you to do it. Name your ﬁgure!”\\n“My professional charges are upon a ﬁxed scale,”\\nsaid Holmes coldly. “I do not vary them, save when I\\nremit them altogether.”')"
      ]
     },
     "metadata": {},
     "output_type": "display_data"
    },
    {
     "data": {
      "text/plain": [
       "Document(metadata={'producer': 'pdfeTeX-1.21a', 'creator': 'Dark Miasma', 'creationdate': '2007-07-23T04:17:48-07:00', 'author': 'J. K. Rowling', 'title': 'Harry Potter and the Deathly Hallows', 'subject': '', 'keywords': '', 'ptex.fullbanner': 'This is pdfeTeX, Version 3.141592-1.21a-2.2 (Web2C 7.5.4) kpathsea version 3.5.4', 'source': 'data/document\\\\Harry Potter And The Deathly Hallows.pdf', 'total_pages': 768, 'page': 470, 'page_label': '463'}, page_content='way—“\\n“HERMIONE! HERMIONE!”\\n“We need a plan, stop yelling—we need to get these ropes oﬀ—\\n“\\n463')"
      ]
     },
     "metadata": {},
     "output_type": "display_data"
    },
    {
     "data": {
      "text/plain": [
       "Document(metadata={'producer': '', 'creator': '', 'creationdate': '2014-03-15T14:16:40+01:00', 'author': '', 'title': '', 'subject': '', 'keywords': '', 'moddate': '2014-03-15T14:16:40+01:00', 'trapped': '/False', 'ptex.fullbanner': 'This is pdfTeX, Version 3.1415926-2.5-1.40.14 (TeX Live 2013/MacPorts 2013_5) kpathsea version 6.1.1', 'source': 'data/document\\\\The Complete Sherlock Holmes.pdf', 'total_pages': 987, 'page': 887, 'page_label': '882'}, page_content='The Adventure Of The Mazarin Stone\\nHolmes shrugged his shoulders. “You can see in\\nthe corner the parasol which you so politely handed\\nto me in the Minories before you began to suspect.”')"
      ]
     },
     "metadata": {},
     "output_type": "display_data"
    },
    {
     "data": {
      "text/plain": [
       "Document(metadata={'producer': 'pdfeTeX-1.21a', 'creator': 'Dark Miasma', 'creationdate': '2007-07-23T04:17:48-07:00', 'author': 'J. K. Rowling', 'title': 'Harry Potter and the Deathly Hallows', 'subject': '', 'keywords': '', 'ptex.fullbanner': 'This is pdfeTeX, Version 3.141592-1.21a-2.2 (Web2C 7.5.4) kpathsea version 3.5.4', 'source': 'data/document\\\\Harry Potter And The Deathly Hallows.pdf', 'total_pages': 768, 'page': 593, 'page_label': '586'}, page_content='Cloak and throwing it over both of them. He gave the wall a little\\npush.\\nIt melted away at his touch and they slipped outside: Harry')"
      ]
     },
     "metadata": {},
     "output_type": "display_data"
    }
   ],
   "source": [
    "# Print 5 random sample of the documents\n",
    "sample_indexes = []\n",
    "for i in range(5):\n",
    "    p = random.randint(0, len(documents))\n",
    "    sample_indexes.append(p)\n",
    "    display(documents[p])"
   ]
  },
  {
   "cell_type": "code",
   "execution_count": 57,
   "metadata": {},
   "outputs": [],
   "source": [
    "# Copy documents to a new list\n",
    "documents_copy = copy.deepcopy(documents)"
   ]
  },
  {
   "cell_type": "code",
   "execution_count": 58,
   "metadata": {},
   "outputs": [],
   "source": [
    "# Revert the documents to their original state\n",
    "documents = copy.deepcopy(documents_copy)"
   ]
  },
  {
   "cell_type": "code",
   "execution_count": 59,
   "metadata": {},
   "outputs": [],
   "source": [
    "# Sanitize the documents\n",
    "for doc in documents:\n",
    "    doc.page_content = doc.page_content.replace(\"-\\n\", \"\") # Remove -\\n\n",
    "    doc.page_content = doc.page_content.replace(\"”\\n“\", \"”. “\")\n",
    "    doc.page_content = doc.page_content.replace(\".\\n\", \". \")\n",
    "    doc.page_content = doc.page_content.replace(\"\\n\", \" \")"
   ]
  },
  {
   "cell_type": "code",
   "execution_count": 60,
   "metadata": {},
   "outputs": [
    {
     "data": {
      "text/plain": [
       "Document(metadata={'producer': '', 'creator': '', 'creationdate': '2014-03-15T14:16:40+01:00', 'author': '', 'title': '', 'subject': '', 'keywords': '', 'moddate': '2014-03-15T14:16:40+01:00', 'trapped': '/False', 'ptex.fullbanner': 'This is pdfTeX, Version 3.1415926-2.5-1.40.14 (TeX Live 2013/MacPorts 2013_5) kpathsea version 6.1.1', 'source': 'data/document\\\\The Complete Sherlock Holmes.pdf', 'total_pages': 987, 'page': 929, 'page_label': '924'}, page_content='served as the local police-station. A walk of half a mile or so across a wind-swept heath, all gold and bronze with the fading ferns, brought us to a side-gate')"
      ]
     },
     "metadata": {},
     "output_type": "display_data"
    },
    {
     "data": {
      "text/plain": [
       "Document(metadata={'producer': '', 'creator': '', 'creationdate': '2014-03-15T14:16:40+01:00', 'author': '', 'title': '', 'subject': '', 'keywords': '', 'moddate': '2014-03-15T14:16:40+01:00', 'trapped': '/False', 'ptex.fullbanner': 'This is pdfTeX, Version 3.1415926-2.5-1.40.14 (TeX Live 2013/MacPorts 2013_5) kpathsea version 6.1.1', 'source': 'data/document\\\\The Complete Sherlock Holmes.pdf', 'total_pages': 987, 'page': 926, 'page_label': '921'}, page_content='and it’s up to you to do it. Name your ﬁgure!”. “My professional charges are upon a ﬁxed scale,” said Holmes coldly. “I do not vary them, save when I remit them altogether.”')"
      ]
     },
     "metadata": {},
     "output_type": "display_data"
    },
    {
     "data": {
      "text/plain": [
       "Document(metadata={'producer': 'pdfeTeX-1.21a', 'creator': 'Dark Miasma', 'creationdate': '2007-07-23T04:17:48-07:00', 'author': 'J. K. Rowling', 'title': 'Harry Potter and the Deathly Hallows', 'subject': '', 'keywords': '', 'ptex.fullbanner': 'This is pdfeTeX, Version 3.141592-1.21a-2.2 (Web2C 7.5.4) kpathsea version 3.5.4', 'source': 'data/document\\\\Harry Potter And The Deathly Hallows.pdf', 'total_pages': 768, 'page': 470, 'page_label': '463'}, page_content='way—“ “HERMIONE! HERMIONE!”. “We need a plan, stop yelling—we need to get these ropes oﬀ— “ 463')"
      ]
     },
     "metadata": {},
     "output_type": "display_data"
    },
    {
     "data": {
      "text/plain": [
       "Document(metadata={'producer': '', 'creator': '', 'creationdate': '2014-03-15T14:16:40+01:00', 'author': '', 'title': '', 'subject': '', 'keywords': '', 'moddate': '2014-03-15T14:16:40+01:00', 'trapped': '/False', 'ptex.fullbanner': 'This is pdfTeX, Version 3.1415926-2.5-1.40.14 (TeX Live 2013/MacPorts 2013_5) kpathsea version 6.1.1', 'source': 'data/document\\\\The Complete Sherlock Holmes.pdf', 'total_pages': 987, 'page': 887, 'page_label': '882'}, page_content='The Adventure Of The Mazarin Stone Holmes shrugged his shoulders. “You can see in the corner the parasol which you so politely handed to me in the Minories before you began to suspect.”')"
      ]
     },
     "metadata": {},
     "output_type": "display_data"
    },
    {
     "data": {
      "text/plain": [
       "Document(metadata={'producer': 'pdfeTeX-1.21a', 'creator': 'Dark Miasma', 'creationdate': '2007-07-23T04:17:48-07:00', 'author': 'J. K. Rowling', 'title': 'Harry Potter and the Deathly Hallows', 'subject': '', 'keywords': '', 'ptex.fullbanner': 'This is pdfeTeX, Version 3.141592-1.21a-2.2 (Web2C 7.5.4) kpathsea version 3.5.4', 'source': 'data/document\\\\Harry Potter And The Deathly Hallows.pdf', 'total_pages': 768, 'page': 593, 'page_label': '586'}, page_content='Cloak and throwing it over both of them. He gave the wall a little push. It melted away at his touch and they slipped outside: Harry')"
      ]
     },
     "metadata": {},
     "output_type": "display_data"
    }
   ],
   "source": [
    "# View the sample after the changes\n",
    "for i in sample_indexes:\n",
    "    display(documents[i])"
   ]
  },
  {
   "cell_type": "code",
   "execution_count": 61,
   "metadata": {},
   "outputs": [],
   "source": [
    "# Delete the previous DB\n",
    "db = Chroma(persist_directory=\"data/chroma_db\", embedding_function=embeddings)\n",
    "db.delete_collection()\n",
    "\n",
    "# Create a new DB\n",
    "db = Chroma.from_documents(documents, embeddings, persist_directory=\"data/chroma_db\")"
   ]
  },
  {
   "cell_type": "markdown",
   "metadata": {},
   "source": [
    "## Test Retriever\n",
    "\n",
    "Running and testing multiple retriever to get the best and optimum solution."
   ]
  },
  {
   "cell_type": "code",
   "execution_count": 62,
   "metadata": {},
   "outputs": [],
   "source": [
    "retriever = db.as_retriever(search_type=\"similarity\", search_kwargs={\"k\":5})"
   ]
  },
  {
   "cell_type": "code",
   "execution_count": 63,
   "metadata": {},
   "outputs": [
    {
     "data": {
      "text/plain": [
       "[Document(id='32d0bf0e-b75f-4374-97bc-66f17676e384', metadata={'author': 'Kadir', 'creationdate': '2016-09-09T14:43:10+02:00', 'creator': 'Microsoft® Word 2013', 'moddate': '2016-09-09T14:43:10+02:00', 'page': 57, 'page_label': '58', 'producer': 'Microsoft® Word 2013', 'source': 'data/document\\\\Sword Art Online - Volume 01 - Aincrad.pdf', 'total_pages': 293}, page_content='Sword Art Online Volume 1 – Aincrad     Chapter 4    58  The first person to get the honor of having his name crossed out  appeared three hours into the game.'),\n",
       " Document(id='4ea520c9-f3c5-45db-9224-53811786d2d4', metadata={'author': 'Kadir', 'creationdate': '2016-09-09T14:43:10+02:00', 'creator': 'Microsoft® Word 2013', 'moddate': '2016-09-09T14:43:10+02:00', 'page': 69, 'page_label': '70', 'producer': 'Microsoft® Word 2013', 'source': 'data/document\\\\Sword Art Online - Volume 01 - Aincrad.pdf', 'total_pages': 293}, page_content='Sword Art Online Volume 1 – Aincrad     Chapter 5    70  There were a lot of reasons, but the first was that she was one of  the very few female players, and that she was the owner of a face'),\n",
       " Document(id='e16a3d54-10f5-453d-be2c-dcf9ea3c112f', metadata={'author': 'Kadir', 'creationdate': '2016-09-09T14:43:10+02:00', 'creator': 'Microsoft® Word 2013', 'moddate': '2016-09-09T14:43:10+02:00', 'page': 238, 'page_label': '239', 'producer': 'Microsoft® Word 2013', 'source': 'data/document\\\\Sword Art Online - Volume 01 - Aincrad.pdf', 'total_pages': 293}, page_content='Sword Art Online Volume 1 – Aincrad     Chapter 21    239  It was surprising to see a person with such leadership qualities  amongst the hardcore gamers that usually lack social'),\n",
       " Document(id='8c685f2f-1d0b-4ed4-a626-7d3882dde7cb', metadata={'author': 'Kadir', 'creationdate': '2016-09-09T14:43:10+02:00', 'creator': 'Microsoft® Word 2013', 'moddate': '2016-09-09T14:43:10+02:00', 'page': 35, 'page_label': '36', 'producer': 'Microsoft® Word 2013', 'source': 'data/document\\\\Sword Art Online - Volume 01 - Aincrad.pdf', 'total_pages': 293}, page_content='Sword Art Online Volume 1 – Aincrad     Chapter 3    36  『My name is Kayaba Akihiko. Right now, I am the only person  who can control this world.』    “What...!?”'),\n",
       " Document(id='c81a9c47-3fd6-4ddd-ae7a-dc3c95e646b5', metadata={'author': 'Kadir', 'creationdate': '2016-09-09T14:43:10+02:00', 'creator': 'Microsoft® Word 2013', 'moddate': '2016-09-09T14:43:10+02:00', 'page': 202, 'page_label': '203', 'producer': 'Microsoft® Word 2013', 'source': 'data/document\\\\Sword Art Online - Volume 01 - Aincrad.pdf', 'total_pages': 293}, page_content='Sword Art Online Volume 1 – Aincrad     Chapter 17    203  Chapter 17    There were four types of relationships that two players could  have within the SAO system.')]"
      ]
     },
     "execution_count": 63,
     "metadata": {},
     "output_type": "execute_result"
    }
   ],
   "source": [
    "retrieved_documents = retriever.invoke(\"Who is the main character in Sword Art Online?\")\n",
    "retrieved_documents"
   ]
  },
  {
   "cell_type": "code",
   "execution_count": 64,
   "metadata": {},
   "outputs": [
    {
     "name": "stdout",
     "output_type": "stream",
     "text": [
      "Score: 0.5166754722595215 | Document: page_content='Sword Art Online Volume 1 – Aincrad     Chapter 4    58  The first person to get the honor of having his name crossed out  appeared three hours into the game.' metadata={'author': 'Kadir', 'creationdate': '2016-09-09T14:43:10+02:00', 'creator': 'Microsoft® Word 2013', 'moddate': '2016-09-09T14:43:10+02:00', 'page': 57, 'page_label': '58', 'producer': 'Microsoft® Word 2013', 'source': 'data/document\\\\Sword Art Online - Volume 01 - Aincrad.pdf', 'total_pages': 293}\n",
      "Score: 0.5584264397621155 | Document: page_content='Sword Art Online Volume 1 – Aincrad     Chapter 5    70  There were a lot of reasons, but the first was that she was one of  the very few female players, and that she was the owner of a face' metadata={'author': 'Kadir', 'creationdate': '2016-09-09T14:43:10+02:00', 'creator': 'Microsoft® Word 2013', 'moddate': '2016-09-09T14:43:10+02:00', 'page': 69, 'page_label': '70', 'producer': 'Microsoft® Word 2013', 'source': 'data/document\\\\Sword Art Online - Volume 01 - Aincrad.pdf', 'total_pages': 293}\n",
      "Score: 0.5599157214164734 | Document: page_content='Sword Art Online Volume 1 – Aincrad     Chapter 21    239  It was surprising to see a person with such leadership qualities  amongst the hardcore gamers that usually lack social' metadata={'author': 'Kadir', 'creationdate': '2016-09-09T14:43:10+02:00', 'creator': 'Microsoft® Word 2013', 'moddate': '2016-09-09T14:43:10+02:00', 'page': 238, 'page_label': '239', 'producer': 'Microsoft® Word 2013', 'source': 'data/document\\\\Sword Art Online - Volume 01 - Aincrad.pdf', 'total_pages': 293}\n",
      "Score: 0.5683227777481079 | Document: page_content='Sword Art Online Volume 1 – Aincrad     Chapter 3    36  『My name is Kayaba Akihiko. Right now, I am the only person  who can control this world.』    “What...!?”' metadata={'author': 'Kadir', 'creationdate': '2016-09-09T14:43:10+02:00', 'creator': 'Microsoft® Word 2013', 'moddate': '2016-09-09T14:43:10+02:00', 'page': 35, 'page_label': '36', 'producer': 'Microsoft® Word 2013', 'source': 'data/document\\\\Sword Art Online - Volume 01 - Aincrad.pdf', 'total_pages': 293}\n",
      "Score: 0.5721309185028076 | Document: page_content='Sword Art Online Volume 1 – Aincrad     Chapter 17    203  Chapter 17    There were four types of relationships that two players could  have within the SAO system.' metadata={'author': 'Kadir', 'creationdate': '2016-09-09T14:43:10+02:00', 'creator': 'Microsoft® Word 2013', 'moddate': '2016-09-09T14:43:10+02:00', 'page': 202, 'page_label': '203', 'producer': 'Microsoft® Word 2013', 'source': 'data/document\\\\Sword Art Online - Volume 01 - Aincrad.pdf', 'total_pages': 293}\n"
     ]
    }
   ],
   "source": [
    "# Similarity search with score\n",
    "results = db.similarity_search_with_score(\"Who is the main character in Sword Art Online?\", k=5)\n",
    "for doc, score in results:\n",
    "    print(f\"Score: {score} | Document: {doc}\")"
   ]
  },
  {
   "cell_type": "code",
   "execution_count": 65,
   "metadata": {},
   "outputs": [],
   "source": [
    "# Define retriver using LLM\n",
    "llm = ChatOllama(model=\"llama3:8b\", temperature=0)\n",
    "retriever_from_llm = MultiQueryRetriever.from_llm(\n",
    "    retriever=db.as_retriever(),\n",
    "    llm=llm\n",
    ")"
   ]
  },
  {
   "cell_type": "code",
   "execution_count": 66,
   "metadata": {},
   "outputs": [
    {
     "data": {
      "text/plain": [
       "[Document(id='d5538a9b-b2d8-4d1b-984e-f2b75bb7a43c', metadata={'author': 'Kadir', 'creationdate': '2016-09-09T14:43:10+02:00', 'creator': 'Microsoft® Word 2013', 'moddate': '2016-09-09T14:43:10+02:00', 'page': 277, 'page_label': '278', 'producer': 'Microsoft® Word 2013', 'source': 'data/document\\\\Sword Art Online - Volume 01 - Aincrad.pdf', 'total_pages': 293}, page_content=\"asking:  “...What about those who died? Both of us are already dead, yet we  continue to exist here. Doesn't that mean you can return the other\"),\n",
       " Document(id='d9310032-a5d1-43d3-b693-3b20d82c7427', metadata={'author': '', 'creationdate': '2014-03-15T14:16:40+01:00', 'creator': '', 'keywords': '', 'moddate': '2014-03-15T14:16:40+01:00', 'page': 197, 'page_label': '192', 'producer': '', 'ptex.fullbanner': 'This is pdfTeX, Version 3.1415926-2.5-1.40.14 (TeX Live 2013/MacPorts 2013_5) kpathsea version 6.1.1', 'source': 'data/document\\\\The Complete Sherlock Holmes.pdf', 'subject': '', 'title': '', 'total_pages': 987, 'trapped': '/False'}, page_content='we entered a well-lit dining-room, upon the table of which a cold supper had been laid out, “I should very much like to ask you one or two plain questions, to'),\n",
       " Document(id='24f75813-28dc-4a83-9780-c44f3645bf4f', metadata={'author': '', 'creationdate': '2014-03-15T14:16:40+01:00', 'creator': '', 'keywords': '', 'moddate': '2014-03-15T14:16:40+01:00', 'page': 938, 'page_label': '933', 'producer': '', 'ptex.fullbanner': 'This is pdfTeX, Version 3.1415926-2.5-1.40.14 (TeX Live 2013/MacPorts 2013_5) kpathsea version 6.1.1', 'source': 'data/document\\\\The Complete Sherlock Holmes.pdf', 'subject': '', 'title': '', 'total_pages': 987, 'trapped': '/False'}, page_content='question: Why does Professor Presbury’s wolfhound, Roy, endeavour to bite him?” I sank back in my chair in some disappointment. Was it for so trivial a question as this that I had been'),\n",
       " Document(id='1af31564-27ed-4207-94a4-6a0fcb46b935', metadata={'author': 'J. K. Rowling', 'creationdate': '2007-07-23T04:17:48-07:00', 'creator': 'Dark Miasma', 'keywords': '', 'page': 130, 'page_label': '123', 'producer': 'pdfeTeX-1.21a', 'ptex.fullbanner': 'This is pdfeTeX, Version 3.141592-1.21a-2.2 (Web2C 7.5.4) kpathsea version 3.5.4', 'source': 'data/document\\\\Harry Potter And The Deathly Hallows.pdf', 'subject': '', 'title': 'Harry Potter and the Deathly Hallows', 'total_pages': 768}, page_content='Once they had done so, Scrimgeour spoke, “I have some questions for the three of your and I think it will be best if we do it individually. If you two“—he pointed at Harry'),\n",
       " Document(id='919ecad1-447c-4ba5-b13a-0152185170ab', metadata={'author': 'Kadir', 'creationdate': '2016-09-09T14:43:10+02:00', 'creator': 'Microsoft® Word 2013', 'moddate': '2016-09-09T14:43:10+02:00', 'page': 20, 'page_label': '21', 'producer': 'Microsoft® Word 2013', 'source': 'data/document\\\\Sword Art Online - Volume 01 - Aincrad.pdf', 'total_pages': 293}, page_content='character of their own—that is to say, an MMORPG.  When the anticipation and craving reached its limit, the first  VRMMORPG was announced just in time, «Sword Art Online». The'),\n",
       " Document(id='11dc01dc-8055-40fa-b7ae-250dc69a36cf', metadata={'author': 'Kadir', 'creationdate': '2016-09-09T14:43:10+02:00', 'creator': 'Microsoft® Word 2013', 'moddate': '2016-09-09T14:43:10+02:00', 'page': 4, 'page_label': '5', 'producer': 'Microsoft® Word 2013', 'source': 'data/document\\\\Sword Art Online - Volume 01 - Aincrad.pdf', 'total_pages': 293}, page_content='Sword Art Online Volume 1 – Aincrad     Prologue    5'),\n",
       " Document(id='11e2e6bc-2a2d-4bd2-a9e9-53fe219f98a2', metadata={'author': 'Kadir', 'creationdate': '2016-09-09T14:43:10+02:00', 'creator': 'Microsoft® Word 2013', 'moddate': '2016-09-09T14:43:10+02:00', 'page': 3, 'page_label': '4', 'producer': 'Microsoft® Word 2013', 'source': 'data/document\\\\Sword Art Online - Volume 01 - Aincrad.pdf', 'total_pages': 293}, page_content='Sword Art Online Volume 1 – Aincrad     Prologue    4'),\n",
       " Document(id='e16a3d54-10f5-453d-be2c-dcf9ea3c112f', metadata={'author': 'Kadir', 'creationdate': '2016-09-09T14:43:10+02:00', 'creator': 'Microsoft® Word 2013', 'moddate': '2016-09-09T14:43:10+02:00', 'page': 238, 'page_label': '239', 'producer': 'Microsoft® Word 2013', 'source': 'data/document\\\\Sword Art Online - Volume 01 - Aincrad.pdf', 'total_pages': 293}, page_content='Sword Art Online Volume 1 – Aincrad     Chapter 21    239  It was surprising to see a person with such leadership qualities  amongst the hardcore gamers that usually lack social'),\n",
       " Document(id='32d0bf0e-b75f-4374-97bc-66f17676e384', metadata={'author': 'Kadir', 'creationdate': '2016-09-09T14:43:10+02:00', 'creator': 'Microsoft® Word 2013', 'moddate': '2016-09-09T14:43:10+02:00', 'page': 57, 'page_label': '58', 'producer': 'Microsoft® Word 2013', 'source': 'data/document\\\\Sword Art Online - Volume 01 - Aincrad.pdf', 'total_pages': 293}, page_content='Sword Art Online Volume 1 – Aincrad     Chapter 4    58  The first person to get the honor of having his name crossed out  appeared three hours into the game.'),\n",
       " Document(id='4ea520c9-f3c5-45db-9224-53811786d2d4', metadata={'author': 'Kadir', 'creationdate': '2016-09-09T14:43:10+02:00', 'creator': 'Microsoft® Word 2013', 'moddate': '2016-09-09T14:43:10+02:00', 'page': 69, 'page_label': '70', 'producer': 'Microsoft® Word 2013', 'source': 'data/document\\\\Sword Art Online - Volume 01 - Aincrad.pdf', 'total_pages': 293}, page_content='Sword Art Online Volume 1 – Aincrad     Chapter 5    70  There were a lot of reasons, but the first was that she was one of  the very few female players, and that she was the owner of a face'),\n",
       " Document(id='2a66952c-e3ef-4f8e-9a00-190a8ab99e62', metadata={'author': 'Kadir', 'creationdate': '2016-09-09T14:43:10+02:00', 'creator': 'Microsoft® Word 2013', 'moddate': '2016-09-09T14:43:10+02:00', 'page': 208, 'page_label': '209', 'producer': 'Microsoft® Word 2013', 'source': 'data/document\\\\Sword Art Online - Volume 01 - Aincrad.pdf', 'total_pages': 293}, page_content='Sword Art Online Volume 1 – Aincrad     Chapter 18    209  I could mostly guess the reason for why he was in this game.   Tohto was a network operator company that had been'),\n",
       " Document(id='c81a9c47-3fd6-4ddd-ae7a-dc3c95e646b5', metadata={'author': 'Kadir', 'creationdate': '2016-09-09T14:43:10+02:00', 'creator': 'Microsoft® Word 2013', 'moddate': '2016-09-09T14:43:10+02:00', 'page': 202, 'page_label': '203', 'producer': 'Microsoft® Word 2013', 'source': 'data/document\\\\Sword Art Online - Volume 01 - Aincrad.pdf', 'total_pages': 293}, page_content='Sword Art Online Volume 1 – Aincrad     Chapter 17    203  Chapter 17    There were four types of relationships that two players could  have within the SAO system.'),\n",
       " Document(id='8c685f2f-1d0b-4ed4-a626-7d3882dde7cb', metadata={'author': 'Kadir', 'creationdate': '2016-09-09T14:43:10+02:00', 'creator': 'Microsoft® Word 2013', 'moddate': '2016-09-09T14:43:10+02:00', 'page': 35, 'page_label': '36', 'producer': 'Microsoft® Word 2013', 'source': 'data/document\\\\Sword Art Online - Volume 01 - Aincrad.pdf', 'total_pages': 293}, page_content='Sword Art Online Volume 1 – Aincrad     Chapter 3    36  『My name is Kayaba Akihiko. Right now, I am the only person  who can control this world.』    “What...!?”')]"
      ]
     },
     "execution_count": 66,
     "metadata": {},
     "output_type": "execute_result"
    }
   ],
   "source": [
    "retriever_from_llm.invoke(\"Who is the main character in Sword Art Online?\")"
   ]
  }
 ],
 "metadata": {
  "kernelspec": {
   "display_name": "llm-retriever-and-tavily-odsGf3C6-py3.10",
   "language": "python",
   "name": "python3"
  },
  "language_info": {
   "codemirror_mode": {
    "name": "ipython",
    "version": 3
   },
   "file_extension": ".py",
   "mimetype": "text/x-python",
   "name": "python",
   "nbconvert_exporter": "python",
   "pygments_lexer": "ipython3",
   "version": "3.10.0"
  }
 },
 "nbformat": 4,
 "nbformat_minor": 2
}

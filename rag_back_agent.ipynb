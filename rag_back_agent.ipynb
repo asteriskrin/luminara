{
 "cells": [
  {
   "cell_type": "code",
   "execution_count": 11,
   "metadata": {},
   "outputs": [],
   "source": [
    "import os\n",
    "import configparser\n",
    "from langchain_community.tools.tavily_search import TavilySearchResults\n",
    "from langchain_core.output_parsers import StrOutputParser\n",
    "from langchain_core.prompts import ChatPromptTemplate\n",
    "from langchain_core.runnables import RunnablePassthrough\n",
    "from langchain_core.documents import Document\n",
    "from langchain_core.runnables import RunnableLambda\n",
    "from langchain_chroma import Chroma\n",
    "from langchain_ollama import OllamaEmbeddings\n",
    "from langchain_ollama import ChatOllama"
   ]
  },
  {
   "cell_type": "code",
   "execution_count": 12,
   "metadata": {},
   "outputs": [],
   "source": [
    "os.environ[\"USER_AGENT\"] = \"llm-retriever-and-tavily/0.1\""
   ]
  },
  {
   "cell_type": "code",
   "execution_count": 13,
   "metadata": {},
   "outputs": [
    {
     "name": "stdout",
     "output_type": "stream",
     "text": [
      "tvly-...yzpuu\n"
     ]
    }
   ],
   "source": [
    "# Read the configuration file\n",
    "config = configparser.ConfigParser()\n",
    "config.read('config.ini')\n",
    "\n",
    "# Set the TAVILY_API_KEY environment variable\n",
    "os.environ[\"TAVILY_API_KEY\"] = config['DEFAULT']['TAVILY_API_KEY']\n",
    "\n",
    "print(os.environ[\"TAVILY_API_KEY\"][:5] + \"...\" + os.environ[\"TAVILY_API_KEY\"][-5:])"
   ]
  },
  {
   "cell_type": "code",
   "execution_count": 14,
   "metadata": {},
   "outputs": [],
   "source": [
    "# Embeddings\n",
    "embeddings = OllamaEmbeddings(\n",
    "    model=\"nomic-embed-text\",\n",
    ")"
   ]
  },
  {
   "cell_type": "code",
   "execution_count": 15,
   "metadata": {},
   "outputs": [],
   "source": [
    "# DB\n",
    "db = Chroma(\n",
    "    persist_directory=\"data/chroma_db\", \n",
    "    embedding_function=embeddings,\n",
    "    collection_metadata={\"hnsw:space\": \"cosine\"}\n",
    ")"
   ]
  },
  {
   "cell_type": "code",
   "execution_count": 16,
   "metadata": {},
   "outputs": [],
   "source": [
    "tavily_retriever = TavilySearchResults(k=3)"
   ]
  },
  {
   "cell_type": "code",
   "execution_count": 17,
   "metadata": {},
   "outputs": [],
   "source": [
    "# Custom retriever function with similarity score filtering\n",
    "def hybrid_fallback_retriever(query, threshold=0.7, threshold_tavily=0.3, k=5):\n",
    "    results = db.similarity_search_with_score(query, k=k)\n",
    "    for doc, score in results:\n",
    "        print(f\"[DEBUG] [hybrid_fallback_retriever] Chroma Doc: {doc}, Score: {score}\")\n",
    "    chroma_docs = [doc for doc, score in results if score < threshold]\n",
    "    \n",
    "    if chroma_docs:\n",
    "        return chroma_docs\n",
    "    else:\n",
    "        print(f\"[DEBUG] [hybrid_fallback_retriever] There is no match in Chroma DB, processing with Tavily...\")\n",
    "        tavily_docs = tavily_retriever.invoke(query)\n",
    "        for doc in tavily_docs:\n",
    "            print(f\"[DEBUG] [hybrid_fallback_retriever] Tavily Doc: {doc}, Score: {doc['score']}\")\n",
    "        tavily_docs = [Document(page_content=doc[\"content\"]) for doc in tavily_docs if doc[\"score\"] >= threshold_tavily]\n",
    "        return tavily_docs\n",
    "\n",
    "# Wrap it as a RunnableLambda\n",
    "retriever = RunnableLambda(lambda query: hybrid_fallback_retriever(query, k=5))"
   ]
  },
  {
   "cell_type": "code",
   "execution_count": 18,
   "metadata": {},
   "outputs": [],
   "source": [
    "llm = ChatOllama(\n",
    "    name=\"back_agent\", \n",
    "    model=\"krith/meta-llama-3.1-8b-instruct:IQ2_M\", \n",
    "    # model=\"phi3:3.8b\", \n",
    "    # model=\"llama3.2:1b\", \n",
    "    temperature=0.3\n",
    ")\n",
    "\n",
    "prompt = \"\"\"\n",
    "You're a storyteller with a sharp eye for detail.\n",
    "You're given a question and a context.\n",
    "Only use what's in the context—no guesses, no outside knowledge.\n",
    "\n",
    "Question: {question}\n",
    "\n",
    "Context: {context}\n",
    "\n",
    "Answer:\n",
    "\"\"\"\n",
    "\n",
    "rag_prompt = ChatPromptTemplate.from_messages({'system_message', prompt})\n",
    "\n",
    "def format_docs(docs):\n",
    "    return \"\\n\\n\".join(doc.page_content for doc in docs)\n",
    "\n",
    "rag_chain = (\n",
    "    {\"context\": retriever | format_docs, \"question\": RunnablePassthrough()}\n",
    "    | rag_prompt\n",
    "    | llm\n",
    "    | StrOutputParser()\n",
    ")"
   ]
  },
  {
   "cell_type": "code",
   "execution_count": 19,
   "metadata": {},
   "outputs": [
    {
     "name": "stdout",
     "output_type": "stream",
     "text": [
      "[DEBUG] [hybrid_fallback_retriever] Chroma Doc: page_content='Herder, the blind German mechanic, who constructed it to the order of the late Professor Moriarty. For years I have been aware of its existence, though I have never' metadata={'author': '', 'creationdate': '2014-03-15T14:16:40+01:00', 'creator': '', 'keywords': '', 'moddate': '2014-03-15T14:16:40+01:00', 'page': 429, 'page_label': '424', 'producer': '', 'ptex.fullbanner': 'This is pdfTeX, Version 3.1415926-2.5-1.40.14 (TeX Live 2013/MacPorts 2013_5) kpathsea version 6.1.1', 'source': 'data/document\\\\The Complete Sherlock Holmes.pdf', 'subject': '', 'title': '', 'total_pages': 987, 'trapped': '/False'}, Score: 0.8082188367843628\n",
      "[DEBUG] [hybrid_fallback_retriever] Chroma Doc: page_content='second.  Kayaba — Akihiko!!  I knew that name. There was no way I didn't.  This person, both a game designer and genius in the field of' metadata={'author': 'Kadir', 'creationdate': '2016-09-09T14:43:10+02:00', 'creator': 'Microsoft® Word 2013', 'moddate': '2016-09-09T14:43:10+02:00', 'page': 35, 'page_label': '36', 'producer': 'Microsoft® Word 2013', 'source': 'data/document\\\\Sword Art Online - Volume 01 - Aincrad.pdf', 'total_pages': 293}, Score: 0.8243749737739563\n",
      "[DEBUG] [hybrid_fallback_retriever] Chroma Doc: page_content='I confess that this is entirely new to me. The object of those who invented the system has apparently been to conceal that these characters convey a message,' metadata={'author': '', 'creationdate': '2014-03-15T14:16:40+01:00', 'creator': '', 'keywords': '', 'moddate': '2014-03-15T14:16:40+01:00', 'page': 455, 'page_label': '450', 'producer': '', 'ptex.fullbanner': 'This is pdfTeX, Version 3.1415926-2.5-1.40.14 (TeX Live 2013/MacPorts 2013_5) kpathsea version 6.1.1', 'source': 'data/document\\\\The Complete Sherlock Holmes.pdf', 'subject': '', 'title': '', 'total_pages': 987, 'trapped': '/False'}, Score: 0.8273485898971558\n",
      "[DEBUG] [hybrid_fallback_retriever] Chroma Doc: page_content='into the food. Instead it used a «Taste Reproduction Engine» that  Argus and an affiliated environment programming designer had  made together.' metadata={'author': 'Kadir', 'creationdate': '2016-09-09T14:43:10+02:00', 'creator': 'Microsoft® Word 2013', 'moddate': '2016-09-09T14:43:10+02:00', 'page': 80, 'page_label': '81', 'producer': 'Microsoft® Word 2013', 'source': 'data/document\\\\Sword Art Online - Volume 01 - Aincrad.pdf', 'total_pages': 293}, Score: 0.8338017463684082\n",
      "[DEBUG] [hybrid_fallback_retriever] Chroma Doc: page_content='“Still, it’s cool,” said Ron, a little defensively. “And from what they said, Dumbledore invented it himself!”. “I know, but surely he wouldn’t have singled you out in his will' metadata={'author': 'J. K. Rowling', 'creationdate': '2007-07-23T04:17:48-07:00', 'creator': 'Dark Miasma', 'keywords': '', 'page': 140, 'page_label': '133', 'producer': 'pdfeTeX-1.21a', 'ptex.fullbanner': 'This is pdfeTeX, Version 3.141592-1.21a-2.2 (Web2C 7.5.4) kpathsea version 3.5.4', 'source': 'data/document\\\\Harry Potter And The Deathly Hallows.pdf', 'subject': '', 'title': 'Harry Potter and the Deathly Hallows', 'total_pages': 768}, Score: 0.8433401584625244\n",
      "[DEBUG] [hybrid_fallback_retriever] There is no match in Chroma DB, processing with Tavily...\n",
      "[DEBUG] [hybrid_fallback_retriever] Tavily Doc: {'title': 'WinRAR,WinRAR inventors - Edubilla.com', 'url': 'https://edubilla.com/invention/winrar/', 'content': 'WinRAR\\n\\nFamous  Inventors\\n\\nWinRAR - Invented by Eugene Roshal\\n\\nAbout Invention\\n\\nWinRAR is a shareware file archiver and compressor utility for Windows. It can create archives in RAR or ZIP file formats,and unpack numerous archive file formats. There is an Android app called \"RAR for Android\", and command-line versions called \"RAR\" and \"UNRAR\" (widely released since autumn of 1993), available for Mac OS X, Linux, FreeBSD, Windows console mode, and MS-DOS. [...] Explore City Wise Colleges, Institutions, Universities, Consultancies, Associations and Suppliers in edubilla.com\\n\\nClick Here to Know about a Legend Dr.A.P.J. Abdul Kalam\\n\\n© 2019 www.edubilla.com. All rights reserved [...] Rar (file format)..\\n\\nOptical mouse..\\n\\n3d printing..\\n\\nPointing stick..\\n\\nC (programming language)..\\n\\nTeleo..\\n\\nLiveops..\\n\\nBeaufort cipher..\\n\\nEniac..\\n\\nHamming code..\\n\\nDynamic random-access memory..\\n\\nPlayfair cipher..\\n\\nTcp/ip internet protocol..\\n\\nPhp..\\n\\nInternet..\\n\\nComputer scanner..\\n\\nComputer aided manufacturing..\\n\\nFloppy disk..\\n\\nHard disk drive..\\n\\nVirtual machine..\\n\\nReduced instruction set computing..\\n\\nRelational database..\\n\\nUniversal product code..\\n\\nWatson (computer)..', 'score': 0.8936907}, Score: 0.8936907\n",
      "[DEBUG] [hybrid_fallback_retriever] Tavily Doc: {'title': 'How to Use WinRAR: A Complete Guide - WinZip', 'url': 'https://www.winzip.com/en/learn/tips/winrar/how-to-use/?srsltid=AfmBOorSp0rVk3IvwVevkiKH9kdl3hnhgdLuPSLtocZKtUWhtxyaLQWH', 'content': \"WinRAR is a software program and a trialware file archive utility that's designed to work with your Windows and Mac computer. It was developed by Eugene Roshal of win.rar GmbH and had an initial release in April 1995.\\n\\nThe software uses RAR and ZIP formats to help you achieve the information that you aren't currently using on your computer to free up space on your hard drive. The files become depressed, so they aren't as large as they once were, giving you more storage space. [...] From videos and family photos to old school papers and signed contracts, there are many files on your computer that you don't use a lot, but you don't want to give up either. Fortunately, you can compress the files into smaller data packages and archive them. When you need them again or want to view them, you open them up.\\n\\nSoftware, such as WinRAR, can help you compress and archive these treasured memories and essential paperwork. Here's your guide to WinRAR:\\n\\nWhat is WinRAR? [...] Table of Contents\\n\\nHow to use WinRAR\\n\\nYou can use WinRAR to both open archives and create new ones. The software is easy to use and can be done in a few minutes. However, if you're in the process of archiving files, you'll need to repeat the steps for each one.\\n\\nThere are a few steps to creating a WinRAR file, including:\\n\\nThis is an easy process that you can use to archive many files. Opening a WinRAR file is even easier. Here are the steps:\", 'score': 0.82254606}, Score: 0.82254606\n",
      "[DEBUG] [hybrid_fallback_retriever] Tavily Doc: {'title': 'Eugene Roshal - Wikipedia', 'url': 'https://en.wikipedia.org/wiki/Eugene_Roshal', 'content': 'Eugene Roshal (Russian: Евгений Лазаревич Рошал, romanized:\\xa0Yevgeniy Lazarevich Roshal; born 1972) is a Russian software engineer best known for developing the RAR file format, the WinRAR archiver, and the FAR file manager. His contributions have significantly impacted the field of data compression and file management. [...] In 1993, Roshal developed the RAR (Roshal Archive) file format, designed to offer higher compression ratios compared to existing formats like ZIP. Two years later, in 1995, he released WinRAR, a graphical file archiver utility for Windows that utilizes the RAR format. WinRAR quickly gained popularity due to its efficiency, user-friendly interface, and robust feature set, including support for multiple languages, encryption, and archive repair capabilities.\\n\\nFAR File Manager [...] While Eugene created the RAR compression algorithm, the copyright is held by his older brother, Alexander Roshal.[1] This arrangement allows Eugene to concentrate on software development without being encumbered by copyright and licensing issues.[2]\\n\\nContributions\\n\\nReferences\\n\\nFurther reading', 'score': 0.81979275}, Score: 0.81979275\n",
      "[DEBUG] [hybrid_fallback_retriever] Tavily Doc: {'title': 'The WinRAR Paradox: Why a “Free Trial” Software Became a Tech ...', 'url': 'https://medium.com/@amrmelharony/the-winrar-paradox-why-a-free-trial-software-became-a-tech-staple-fc500a61b17b', 'content': 'WinRAR was launched in 1995 by two brothers, Eugene and Alexander Roshal. Eugene was the coder, while Alexander handled marketing and distribution. The software was born out of a need for efficient data storage during a time when computer storage was limited and expensive.\\n\\nThe Power of Necessity 🎯 [...] Sign up\\n\\nSign in\\n\\nSign up\\n\\nSign in\\n\\nThe WinRAR Paradox: Why a “Free Trial” Software Became a Tech Staple 🤔💾\\n\\nAmr Elharony\\n\\nSubscribe\\n\\n--\\n\\n1\\n\\nListen\\n\\nShare\\n\\nIntroduction\\n\\nHey, corporate professionals! Ever wondered why WinRAR, the software that’s supposed to be a 40-day free trial, never actually locks you out? It’s a curious case that has puzzled many. Let’s dive into the history, the business model, and the surprising reasons behind WinRAR’s enduring popularity. 🌟\\n\\nThe Origins of WinRAR 🛠️ [...] Just like in our corporate world, necessity often drives innovation. I remember spearheading a project where we had to find creative solutions due to budget constraints, and it turned out to be a game-changer for the company.\\n\\nThe Freemium Model: A Bold Move 🎲\\n\\nWinRAR adopted what we now call a “freemium” model long before it was a trend. The software is virtually free for individual users, but companies are expected to pay for licenses. This model helped WinRAR gain immense popularity.', 'score': 0.81875163}, Score: 0.81875163\n",
      "[DEBUG] [hybrid_fallback_retriever] Tavily Doc: {'title': 'RAR and WinRAR END USER LICENSE AGREEMENT (EULA)', 'url': 'https://www.win-rar.com/winrarlicense.html?&L=', 'content': 'The author and holder of the copyright of the software is Alexander L. Roshal. The licensor and as such issuer of the license and bearer of the worldwide', 'score': 0.650934}, Score: 0.650934\n",
      "\n",
      "\n",
      "\n",
      "The answer is Eugene Roshal.\n"
     ]
    }
   ],
   "source": [
    "# Test 1: General knowledge\n",
    "response = rag_chain.invoke(\"Who did invent the winrar?\")\n",
    "print(\"\\n\\n\") # Print 2 new lines\n",
    "print(response)"
   ]
  },
  {
   "cell_type": "code",
   "execution_count": 20,
   "metadata": {},
   "outputs": [
    {
     "name": "stdout",
     "output_type": "stream",
     "text": [
      "[DEBUG] [hybrid_fallback_retriever] Chroma Doc: page_content='But no help was forthcoming, however long they waited. On some  days the sky outside was not a crystal blue but covered with grey' metadata={'author': 'Kadir', 'creationdate': '2016-09-09T14:43:10+02:00', 'creator': 'Microsoft® Word 2013', 'moddate': '2016-09-09T14:43:10+02:00', 'page': 53, 'page_label': '54', 'producer': 'Microsoft® Word 2013', 'source': 'data/document\\\\Sword Art Online - Volume 01 - Aincrad.pdf', 'total_pages': 293}, Score: 0.66416335105896\n",
      "[DEBUG] [hybrid_fallback_retriever] Chroma Doc: page_content='shoulder.  The clouds drifted by. Then the stars began to appear one by one,  twinkling in the evening sky.  We gazed on as the world changed its colors bit by bit.' metadata={'author': 'Kadir', 'creationdate': '2016-09-09T14:43:10+02:00', 'creator': 'Microsoft® Word 2013', 'moddate': '2016-09-09T14:43:10+02:00', 'page': 266, 'page_label': '267', 'producer': 'Microsoft® Word 2013', 'source': 'data/document\\\\Sword Art Online - Volume 01 - Aincrad.pdf', 'total_pages': 293}, Score: 0.7135863304138184\n",
      "[DEBUG] [hybrid_fallback_retriever] Chroma Doc: page_content='“What’s this for?” Jinah took the umbrella and stared up at the sky. It was the crack of dawn and consequently still dark outside, but the sky looked pretty clear.' metadata={'creationdate': '', 'creator': 'PyPDF', 'page': 135, 'page_label': '136', 'producer': 'PyPDF', 'source': 'data/document\\\\Solo Leveling Volume 01 - PDF Room.pdf', 'total_pages': 297}, Score: 0.7178183197975159\n",
      "[DEBUG] [hybrid_fallback_retriever] Chroma Doc: page_content='it spread outwards, the endless skies faded from bright orange, to  a bloody red, then to a shade of purple. I could also faintly hear the  wind blowing.' metadata={'author': 'Kadir', 'creationdate': '2016-09-09T14:43:10+02:00', 'creator': 'Microsoft® Word 2013', 'moddate': '2016-09-09T14:43:10+02:00', 'page': 273, 'page_label': '274', 'producer': 'Microsoft® Word 2013', 'source': 'data/document\\\\Sword Art Online - Volume 01 - Aincrad.pdf', 'total_pages': 293}, Score: 0.7354974150657654\n",
      "[DEBUG] [hybrid_fallback_retriever] Chroma Doc: page_content='place.  Here, the sunset made the entire sky seem as if it was burning.  I was standing on a thick crystal floor. The orange clouds rolled' metadata={'author': 'Kadir', 'creationdate': '2016-09-09T14:43:10+02:00', 'creator': 'Microsoft® Word 2013', 'moddate': '2016-09-09T14:43:10+02:00', 'page': 273, 'page_label': '274', 'producer': 'Microsoft® Word 2013', 'source': 'data/document\\\\Sword Art Online - Volume 01 - Aincrad.pdf', 'total_pages': 293}, Score: 0.7475733757019043\n",
      "\n",
      "\n",
      "\n",
      "The sky outside was covered with grey.\n"
     ]
    }
   ],
   "source": [
    "# Test 2: General knowledge\n",
    "response = rag_chain.invoke(\"What is the color of the sky?\")\n",
    "print(\"\\n\\n\") # Print 2 new lines\n",
    "print(response)"
   ]
  },
  {
   "cell_type": "code",
   "execution_count": 21,
   "metadata": {},
   "outputs": [
    {
     "name": "stdout",
     "output_type": "stream",
     "text": [
      "[DEBUG] [hybrid_fallback_retriever] Chroma Doc: page_content='the black loom of the craggy hills around us, and the yellow speck of light burning steadily in front. There is nothing so deceptive as the distance of a light' metadata={'author': '', 'creationdate': '2014-03-15T14:16:40+01:00', 'creator': '', 'keywords': '', 'moddate': '2014-03-15T14:16:40+01:00', 'page': 630, 'page_label': '625', 'producer': '', 'ptex.fullbanner': 'This is pdfTeX, Version 3.1415926-2.5-1.40.14 (TeX Live 2013/MacPorts 2013_5) kpathsea version 6.1.1', 'source': 'data/document\\\\The Complete Sherlock Holmes.pdf', 'subject': '', 'title': '', 'total_pages': 987, 'trapped': '/False'}, Score: 0.8389956951141357\n",
      "[DEBUG] [hybrid_fallback_retriever] Chroma Doc: page_content='properly if it reached ninety because he’d be completely out of breath. He didn’t have much time. If I can get closer to it faster… Speed. Speed was his problem. BOOM! BOOM! BOOM!' metadata={'creationdate': '', 'creator': 'PyPDF', 'page': 166, 'page_label': '167', 'producer': 'PyPDF', 'source': 'data/document\\\\Solo Leveling Volume 01 - PDF Room.pdf', 'total_pages': 297}, Score: 0.8637282848358154\n",
      "[DEBUG] [hybrid_fallback_retriever] Chroma Doc: page_content='There was a ﬂash of green light— 232' metadata={'author': 'J. K. Rowling', 'creationdate': '2007-07-23T04:17:48-07:00', 'creator': 'Dark Miasma', 'keywords': '', 'page': 239, 'page_label': '232', 'producer': 'pdfeTeX-1.21a', 'ptex.fullbanner': 'This is pdfeTeX, Version 3.141592-1.21a-2.2 (Web2C 7.5.4) kpathsea version 3.5.4', 'source': 'data/document\\\\Harry Potter And The Deathly Hallows.pdf', 'subject': '', 'title': 'Harry Potter and the Deathly Hallows', 'total_pages': 768}, Score: 0.8663755655288696\n",
      "[DEBUG] [hybrid_fallback_retriever] Chroma Doc: page_content='is ﬁfty-three and a half miles an hour.”. “I have not observed the quarter-mile posts,” said I. “Nor have I. But the telegraph posts upon this line' metadata={'author': '', 'creationdate': '2014-03-15T14:16:40+01:00', 'creator': '', 'keywords': '', 'moddate': '2014-03-15T14:16:40+01:00', 'page': 286, 'page_label': '281', 'producer': '', 'ptex.fullbanner': 'This is pdfTeX, Version 3.1415926-2.5-1.40.14 (TeX Live 2013/MacPorts 2013_5) kpathsea version 6.1.1', 'source': 'data/document\\\\The Complete Sherlock Holmes.pdf', 'subject': '', 'title': '', 'total_pages': 987, 'trapped': '/False'}, Score: 0.8666802644729614\n",
      "[DEBUG] [hybrid_fallback_retriever] Chroma Doc: page_content='The speed’s been upgraded. It had increased from 30 percent to 40 percent—and 10 percent could make a huge difference, since Jinwoo used this skill often.' metadata={'creationdate': '', 'creator': 'PyPDF', 'page': 285, 'page_label': '286', 'producer': 'PyPDF', 'source': 'data/document\\\\Solo Leveling Volume 01 - PDF Room.pdf', 'total_pages': 297}, Score: 0.8733406066894531\n",
      "[DEBUG] [hybrid_fallback_retriever] There is no match in Chroma DB, processing with Tavily...\n",
      "[DEBUG] [hybrid_fallback_retriever] Tavily Doc: {'title': 'Speed of Light Calculator', 'url': 'https://www.omnicalculator.com/physics/speed-of-light', 'content': 'So, how fast is the speed of light? The speed of light is 299,792,458 m/s in a vacuum. The speed of light in mph is 670,616,629 mph. With this speed, one can go', 'score': 0.9049283}, Score: 0.9049283\n",
      "[DEBUG] [hybrid_fallback_retriever] Tavily Doc: {'title': 'How fast does light travel? | The speed of light - Space.com', 'url': 'https://www.space.com/15830-light-speed.html', 'content': 'In 1728, English physicist James Bradley based a new set of calculations on the change in the apparent position of stars caused by Earth\\'s travels around the sun. He estimated the speed of light at 185,000 miles per second (301,000 km/s) — accurate to within about 1% of the real value, according to the American Physical Society. [...] Rømer used his observations to estimate the speed of light. Since the size of the solar system and Earth\\'s orbit wasn\\'t yet accurately known, argued a 1998 paper in the American Journal of Physics, he was a bit off. But at last, scientists had a number to work with. Rømer\\'s calculation put the speed of light at about 124,000 miles per second (200,000 km/s). [...] The speed of light traveling through a vacuum is exactly 299,792,458 meters (983,571,056 feet) per second. That\\'s about 186,282 miles per second — a universal constant known in equations as \"c,\" or light speed.', 'score': 0.87782305}, Score: 0.87782305\n",
      "[DEBUG] [hybrid_fallback_retriever] Tavily Doc: {'title': 'Speed of light - Wikipedia', 'url': 'https://en.wikipedia.org/wiki/Speed_of_light', 'content': \"The speed of light in vacuum, commonly denoted c, is a universal physical constant exactly equal to 299,792,458 metres per second (approximately 300,000 kilometres per second; 186,000 miles per second; 671\\xa0million miles per hour). It is exact because, by international agreement, a metre is defined as the length of the path travelled by light in vacuum during a time interval of 1⁄299792458 second. According to the special theory of relativity, c is the upper limit for the speed at which [...] On average,sunlighttakes 8minutes and 17seconds to travel from theSuntoEarth.\\nExact value\\nmetres per second | 299792458\\nApproximate values (to three significant digits)\\nkilometres per hour | 1080000000\\nmiles per second | 186000\\nmiles per hour[1] | 671000000\\nastronomical unitsper day | 173[Note 1]\\nparsecsper year | 0.307[Note 2]\\nApproximate light signal travel times\\nDistance | Time\\nonefoot | 1.0ns\\nonemetre | 3.3 ns\\nfromgeostationary orbitto Earth | 119ms\\nthe length of Earth'sequator | 134 ms [...] The particular value chosen for the speed of light provided  a more accurate definition of the metre that still agreed as much as possible with the definition used before 1983.[13][15]\\n\\nAs a dimensional physical constant, the numerical value of c is different for different unit systems. For example, in imperial units, the speed of light is approximately 186282 miles per second,[Note 3] or roughly 1 foot per nanosecond.[Note 4][16][17]\", 'score': 0.8745175}, Score: 0.8745175\n",
      "[DEBUG] [hybrid_fallback_retriever] Tavily Doc: {'title': 'Speed of light: How fast light travels, explained simply and clearly', 'url': 'https://www.astronomy.com/science/speed-of-light-realitys-speed-limit-explained/', 'content': 'Time gets a little strange as you approach the speed of light. FlashMovie/Shutterstock\\nOn one hand, the speed of light is just a number: 299,792,458 meters per second. And on the other, it’s one of the most important constants that appears in nature and defines the relationship of causality itself. [...] In fact, we now define the speed of light to be a constant, with a precise speed of 299,792,458 meters per second. While it remains a remote possibility in deeply theoretical physics that light may not be a constant, for all known purposes it is a constant, so it’s better to just define it and move on with life.\\nHow was the speed of light first measured? [...] speed-of-light-realitys-speed-limit-explained https://www.astronomy.com/science/speed-of-light-realitys-speed-limit-explained/ Speed of light: How fast light travels, explained simply and clearly The speed of light is 299,792,458 meters per second and that constant tells us much about cause and effect in the universe. https://www.astronomy.com/uploads/2023/04/timetravelstars.jpg InStock USD 1.00 1.00 science article ASY 2024-01-23 2024-01-23 137920\\nSkip to content', 'score': 0.87218446}, Score: 0.87218446\n",
      "[DEBUG] [hybrid_fallback_retriever] Tavily Doc: {'title': 'What is the speed of the light? - Quora', 'url': 'https://www.quora.com/What-is-the-speed-of-the-light', 'content': 'The speed of light equals exactly 299,792,458 metres per second in vacuum. Light is the fastest object in space and its speed is the absolute limit of how fast', 'score': 0.8679453}, Score: 0.8679453\n",
      "\n",
      "\n",
      "\n",
      "Based on the text, the answer is:\n",
      "\n",
      "299,792,458\n"
     ]
    }
   ],
   "source": [
    "# Test 2: Scientific knowledge\n",
    "response = rag_chain.invoke(\"How much is the speed of light?\")\n",
    "print(\"\\n\\n\") # Print 2 new lines\n",
    "print(response)"
   ]
  },
  {
   "cell_type": "code",
   "execution_count": 22,
   "metadata": {},
   "outputs": [
    {
     "name": "stdout",
     "output_type": "stream",
     "text": [
      "[DEBUG] [hybrid_fallback_retriever] Chroma Doc: page_content='the one case a ﬁre, in the other a lamp. The ﬁre was needed, but the lamp was lit—as a comparison of the oil consumed will show—long after it was broad day-' metadata={'author': '', 'creationdate': '2014-03-15T14:16:40+01:00', 'creator': '', 'keywords': '', 'moddate': '2014-03-15T14:16:40+01:00', 'page': 836, 'page_label': '831', 'producer': '', 'ptex.fullbanner': 'This is pdfTeX, Version 3.1415926-2.5-1.40.14 (TeX Live 2013/MacPorts 2013_5) kpathsea version 6.1.1', 'source': 'data/document\\\\The Complete Sherlock Holmes.pdf', 'subject': '', 'title': '', 'total_pages': 987, 'trapped': '/False'}, Score: 0.8522309064865112\n",
      "[DEBUG] [hybrid_fallback_retriever] Chroma Doc: page_content='resulting drop of blood in a chemical pipette. “Now, I add this small quantity of blood to a litre of water. You perceive that the resulting mixture has the' metadata={'author': '', 'creationdate': '2014-03-15T14:16:40+01:00', 'creator': '', 'keywords': '', 'moddate': '2014-03-15T14:16:40+01:00', 'page': 14, 'page_label': '9', 'producer': '', 'ptex.fullbanner': 'This is pdfTeX, Version 3.1415926-2.5-1.40.14 (TeX Live 2013/MacPorts 2013_5) kpathsea version 6.1.1', 'source': 'data/document\\\\The Complete Sherlock Holmes.pdf', 'subject': '', 'title': '', 'total_pages': 987, 'trapped': '/False'}, Score: 0.8675163388252258\n",
      "[DEBUG] [hybrid_fallback_retriever] Chroma Doc: page_content='Acquisition Difficulty: E Category: Consumable Liquid that recovers mana. Recovers 500 mana when you drink it. You may keep it in the inventory, but it cannot be' metadata={'creationdate': '', 'creator': 'PyPDF', 'page': 287, 'page_label': '288', 'producer': 'PyPDF', 'source': 'data/document\\\\Solo Leveling Volume 01 - PDF Room.pdf', 'total_pages': 297}, Score: 0.888134241104126\n",
      "[DEBUG] [hybrid_fallback_retriever] Chroma Doc: page_content='Category: Poison This pouch contains refined kasaka poison. Harvesting this from a kasaka is very rare. Once you drink it, your skin will' metadata={'creationdate': '', 'creator': 'PyPDF', 'page': 198, 'page_label': '199', 'producer': 'PyPDF', 'source': 'data/document\\\\Solo Leveling Volume 01 - PDF Room.pdf', 'total_pages': 297}, Score: 0.9356579184532166\n",
      "[DEBUG] [hybrid_fallback_retriever] Chroma Doc: page_content='ﬁve. Where are the odd two hundred and forty-four pages?” 893' metadata={'author': '', 'creationdate': '2014-03-15T14:16:40+01:00', 'creator': '', 'keywords': '', 'moddate': '2014-03-15T14:16:40+01:00', 'page': 898, 'page_label': '893', 'producer': '', 'ptex.fullbanner': 'This is pdfTeX, Version 3.1415926-2.5-1.40.14 (TeX Live 2013/MacPorts 2013_5) kpathsea version 6.1.1', 'source': 'data/document\\\\The Complete Sherlock Holmes.pdf', 'subject': '', 'title': '', 'total_pages': 987, 'trapped': '/False'}, Score: 0.9555279612541199\n",
      "[DEBUG] [hybrid_fallback_retriever] There is no match in Chroma DB, processing with Tavily...\n",
      "[DEBUG] [hybrid_fallback_retriever] Tavily Doc: {'title': 'What is the mass of 2.00 L of a solution with a density of 1.15 g/ml?', 'url': 'https://www.quora.com/What-is-the-mass-of-2-00-L-of-a-solution-with-a-density-of-1-15-g-ml', 'content': '2.00 L? The g and the ml in 1.15 g/ml? Those letters represent Liters (a volume), Grams (the mass of something)', 'score': 0.37415075}, Score: 0.37415075\n",
      "[DEBUG] [hybrid_fallback_retriever] Tavily Doc: {'title': '[PDF] Materials Science and Engineering', 'url': 'https://ftp.idu.ac.id/wp-content/uploads/ebook/tdg/TEKNOLOGI%20REKAYASA%20MATERIAL%20PERTAHANAN/Materials%20Science%20and%20Engineering%20An%20Introduction%20by%20William%20D.%20Callister,%20Jr.,%20David%20G.%20Rethwish%20(z-lib.org).pdf', 'content': 'EXAMPLE PROBLEM 4.3 Derivation of Composition-Conversion Equation Derive Equation 4.6a. [...] 9.11 × 10−31 kg. [...] Document/GO/Problem Conversion Guide: 9th edition to 10th edition.) • Problems/Questions. Selected problems coded algorithmically with hints, links to text, whiteboard/show work feature and instructor controlled problem solving help. [Found under Assignment/Questions/Select Chapter Number/Select Section Number (or All Sections)/Select Level (or All Levels)/All Sources/GO.] • Answers to Concept Check Questions. (Found under Assignment/Questions/Select Chapter Number/All Sections/All Levels/All', 'score': 0.17766848}, Score: 0.17766848\n",
      "\n",
      "\n",
      "\n",
      "To find the mass of 2 liters of the oil, we need to multiply the density by the volume.\n",
      "\n",
      "The density is given as 1.9 g/cm3 and the volume is 2 L. \n",
      "\n",
      "Since the letters represent Liters (a volume), Grams (the mass of something) and we want to find the mass of 2 liters of the oil, we can directly convert the volume from liters to cubic centimeters because the density is given in g/cm3.\n",
      "\n",
      "1 Liter = 1000 cm3\n",
      "\n",
      "So, 2 L = 2000 cm3\n",
      "\n",
      "Now, multiply the density by the volume: \n",
      "\n",
      "Mass = Density x Volume\n",
      "= 1.9 g/cm3 * 2000 cm3\n",
      "= 3800 grams\n"
     ]
    }
   ],
   "source": [
    "# Test 3: Scientific knowledge (analytical)\n",
    "# The AI needs to understand \"density\"\n",
    "# The AI needs to understand unit conversion (from cm3 to liters)\n",
    "\n",
    "response = rag_chain.invoke(\"An XYZ oil has a density of 1.9 g/cm3. What is the mass of 2 liters of the oil?\")\n",
    "print(\"\\n\\n\") # Print 2 new lines\n",
    "print(response)"
   ]
  },
  {
   "cell_type": "code",
   "execution_count": 30,
   "metadata": {},
   "outputs": [
    {
     "name": "stdout",
     "output_type": "stream",
     "text": [
      "[DEBUG] [hybrid_fallback_retriever] Chroma Doc: page_content='bug; it is all part of «Sword Art Online»'s system.』  “Part of... the system?” Klein muttered brokenly.' metadata={'author': 'Kadir', 'creationdate': '2016-09-09T14:43:10+02:00', 'creator': 'Microsoft® Word 2013', 'moddate': '2016-09-09T14:43:10+02:00', 'page': 35, 'page_label': '36', 'producer': 'Microsoft® Word 2013', 'source': 'data/document\\\\Sword Art Online - Volume 01 - Aincrad.pdf', 'total_pages': 293}, Score: 0.5371670722961426\n",
      "[DEBUG] [hybrid_fallback_retriever] Chroma Doc: page_content='monotonous voice.  『But I ask all of you to understand that «Sword Art Online» is no  longer a simple game. It is a second reality.... From now on, any' metadata={'author': 'Kadir', 'creationdate': '2016-09-09T14:43:10+02:00', 'creator': 'Microsoft® Word 2013', 'moddate': '2016-09-09T14:43:10+02:00', 'page': 39, 'page_label': '40', 'producer': 'Microsoft® Word 2013', 'source': 'data/document\\\\Sword Art Online - Volume 01 - Aincrad.pdf', 'total_pages': 293}, Score: 0.5725657939910889\n",
      "[DEBUG] [hybrid_fallback_retriever] Chroma Doc: page_content='Sword Art Online Volume 1 – Aincrad     Chapter 12    147  “But... this is problematic. For that guy to suddenly present a  condition like this...”' metadata={'author': 'Kadir', 'creationdate': '2016-09-09T14:43:10+02:00', 'creator': 'Microsoft® Word 2013', 'moddate': '2016-09-09T14:43:10+02:00', 'page': 146, 'page_label': '147', 'producer': 'Microsoft® Word 2013', 'source': 'data/document\\\\Sword Art Online - Volume 01 - Aincrad.pdf', 'total_pages': 293}, Score: 0.5814553499221802\n",
      "[DEBUG] [hybrid_fallback_retriever] Chroma Doc: page_content='Sword Art Online Volume 1 – Aincrad     Chapter 4    55  As a side–note, there were two basic bodily needs in SAO: one was  fatigue and the other was hunger.' metadata={'author': 'Kadir', 'creationdate': '2016-09-09T14:43:10+02:00', 'creator': 'Microsoft® Word 2013', 'moddate': '2016-09-09T14:43:10+02:00', 'page': 54, 'page_label': '55', 'producer': 'Microsoft® Word 2013', 'source': 'data/document\\\\Sword Art Online - Volume 01 - Aincrad.pdf', 'total_pages': 293}, Score: 0.6104205846786499\n",
      "[DEBUG] [hybrid_fallback_retriever] Chroma Doc: page_content='Sword Art Online Volume 1 – Aincrad     Chapter 2    21  However, due to the innovation of the actual machine, only  unremarkable titles came forth for the all-important software.' metadata={'author': 'Kadir', 'creationdate': '2016-09-09T14:43:10+02:00', 'creator': 'Microsoft® Word 2013', 'moddate': '2016-09-09T14:43:10+02:00', 'page': 20, 'page_label': '21', 'producer': 'Microsoft® Word 2013', 'source': 'data/document\\\\Sword Art Online - Volume 01 - Aincrad.pdf', 'total_pages': 293}, Score: 0.6189323663711548\n",
      "\n",
      "\n",
      "\n",
      "The main problem in Sword Art Online is that people are dying in the game and their real bodies are also dying. This is a result of the system's design, where if a player dies in the game, they die in real life as well.\n"
     ]
    }
   ],
   "source": [
    "# Test 4: Story knowledge (chroma)\n",
    "\n",
    "response = rag_chain.invoke(\"What is the main problem in Sword Art Online?\")\n",
    "print(\"\\n\\n\") # Print 2 new lines\n",
    "print(response)"
   ]
  },
  {
   "cell_type": "code",
   "execution_count": 24,
   "metadata": {},
   "outputs": [
    {
     "name": "stdout",
     "output_type": "stream",
     "text": [
      "[DEBUG] [hybrid_fallback_retriever] Chroma Doc: page_content='made entirely of data.  So...  Half a year ago, this machine (which started selling in May, 2022)  successfully created a «Virtual Reality». The electronics company' metadata={'author': 'Kadir', 'creationdate': '2016-09-09T14:43:10+02:00', 'creator': 'Microsoft® Word 2013', 'moddate': '2016-09-09T14:43:10+02:00', 'page': 18, 'page_label': '19', 'producer': 'Microsoft® Word 2013', 'source': 'data/document\\\\Sword Art Online - Volume 01 - Aincrad.pdf', 'total_pages': 293}, Score: 0.9396781921386719\n",
      "[DEBUG] [hybrid_fallback_retriever] Chroma Doc: page_content='serve as well.”. “I wanted to hire his steam launch.”. “Why, bless you, sir, it is in the steam launch that he has gone. That’s what puzzles me; for I know' metadata={'author': '', 'creationdate': '2014-03-15T14:16:40+01:00', 'creator': '', 'keywords': '', 'moddate': '2014-03-15T14:16:40+01:00', 'page': 96, 'page_label': '91', 'producer': '', 'ptex.fullbanner': 'This is pdfTeX, Version 3.1415926-2.5-1.40.14 (TeX Live 2013/MacPorts 2013_5) kpathsea version 6.1.1', 'source': 'data/document\\\\The Complete Sherlock Holmes.pdf', 'subject': '', 'title': '', 'total_pages': 987, 'trapped': '/False'}, Score: 0.96286940574646\n",
      "[DEBUG] [hybrid_fallback_retriever] Chroma Doc: page_content='to their lodgings.”. “Quite so. I argued that the launch must be no great way off, in spite of its invisibility. I then put myself in the place of Small, and looked at it as a man of' metadata={'author': '', 'creationdate': '2014-03-15T14:16:40+01:00', 'creator': '', 'keywords': '', 'moddate': '2014-03-15T14:16:40+01:00', 'page': 105, 'page_label': '100', 'producer': '', 'ptex.fullbanner': 'This is pdfTeX, Version 3.1415926-2.5-1.40.14 (TeX Live 2013/MacPorts 2013_5) kpathsea version 6.1.1', 'source': 'data/document\\\\The Complete Sherlock Holmes.pdf', 'subject': '', 'title': '', 'total_pages': 987, 'trapped': '/False'}, Score: 0.9695488214492798\n",
      "[DEBUG] [hybrid_fallback_retriever] Chroma Doc: page_content='But he had always stayed behind the scenes, refusing media  exposure. He had never even been a GM, so why was he doing  something like this?' metadata={'author': 'Kadir', 'creationdate': '2016-09-09T14:43:10+02:00', 'creator': 'Microsoft® Word 2013', 'moddate': '2016-09-09T14:43:10+02:00', 'page': 35, 'page_label': '36', 'producer': 'Microsoft® Word 2013', 'source': 'data/document\\\\Sword Art Online - Volume 01 - Aincrad.pdf', 'total_pages': 293}, Score: 0.9709029197692871\n",
      "[DEBUG] [hybrid_fallback_retriever] Chroma Doc: page_content='Why did he give this to us? Even as I wondered, I tapped on the  name and pressed the “Make Into Object” button. Immediately,' metadata={'author': 'Kadir', 'creationdate': '2016-09-09T14:43:10+02:00', 'creator': 'Microsoft® Word 2013', 'moddate': '2016-09-09T14:43:10+02:00', 'page': 42, 'page_label': '43', 'producer': 'Microsoft® Word 2013', 'source': 'data/document\\\\Sword Art Online - Volume 01 - Aincrad.pdf', 'total_pages': 293}, Score: 0.974480152130127\n",
      "[DEBUG] [hybrid_fallback_retriever] There is no match in Chroma DB, processing with Tavily...\n",
      "[DEBUG] [hybrid_fallback_retriever] Tavily Doc: {'title': \"SpaceX: Facts About Elon Musk's Private Spaceflight Company\", 'url': 'https://www.space.com/18853-spacex.html', 'content': '\"The reason SpaceX was created was to accelerate the development of rocket technology, all for the goal of establishing a self-sustaining, permanent base on Mars,\" Musk said at the time. \"And I think we\\'re making some progress in that direction — not as fast as I\\'d like.\" [...] Musk was already an experienced businessman when he started SpaceX, and he strongly believed that more frequent and more reliable launches would bring down the cost of exploration. So, he sought out a stable customer that could fund the early development of a rocket: NASA. (Later, he wooed launch clients from various sectors to diversify his customer base.) As such, his goal for SpaceX was to develop the first privately built, liquid-fueled booster to make it into orbit, which he called the [...] Initially, Musk had the idea of sending a greenhouse, dubbed the Mars Oasis, to the Red Planet. His goal was to drum up public interest in exploration while also providing a science base on Mars. But the cost ended up being too high, and instead, Musk started a spaceflight company called Space Exploration Technologies Corp., or SpaceX, now based in the Los Angeles suburb of Hawthorne, California.', 'score': 0.89053273}, Score: 0.89053273\n",
      "[DEBUG] [hybrid_fallback_retriever] Tavily Doc: {'title': 'SpaceX | Spacecraft, Rockets, & Facts | Britannica', 'url': 'https://www.britannica.com/topic/SpaceX', 'content': 'SpaceX was formed by entrepreneur Elon Musk in the hopes of revolutionizing the aerospace industry and making affordable spaceflight a reality. The company entered the arena with the Falcon 1 rocket, a two-stage liquid-fueled craft designed to send small satellites into orbit. The Falcon 1 was vastly cheaper to build and operate than its competitors, a field largely populated by spacecraft built by publicly owned and government-funded companies such as Lockheed Martin and Boeing. Part of the [...] Why was SpaceX created?\\nIn 2002 SpaceX was created by entrepreneur Elon Musk, whose stated goals were to revolutionize the aerospace industry and to make spaceflight more affordable. [...] What is SpaceX?\\nSpaceX is an American aerospace company founded in 2002 by Elon Musk that helped usher in the era of commercial spaceflight. Its name in full is Space Exploration Technologies Corporation.\\n\\nWhere is SpaceX located?\\nSpaceX is headquartered in Hawthorne, California. Its other sites include launch facilities in Cape Canaveral, Florida, and at Vandenberg Space Force Base in California.', 'score': 0.8803145}, Score: 0.8803145\n",
      "[DEBUG] [hybrid_fallback_retriever] Tavily Doc: {'title': 'SpaceX - Wikipedia', 'url': 'https://en.wikipedia.org/wiki/SpaceX', 'content': \"SpaceX was founded by Elon Musk in 2002 with a vision of decreasing the costs of space launches, paving the way to a sustainable colony on Mars. In 2008, when SpaceX was almost bankrupt, Falcon 1 successfully launched into orbit after three failed launch attempts. The company then pivoted towards the development of the larger Falcon 9 rocket and the Dragon 1 capsule to satisfy NASA's COTS contracts for deliveries to the International Space Station. By 2012, SpaceX finished all COTS test flights [...] Musk returned with his team to Moscow, this time bringing Michael Griffin, who later became the 11th Administrator of NASA, but found the Russians increasingly unreceptive.[17][18] On the flight home, Musk announced he could start a company to build the affordable rockets they needed instead.[18] By applying vertical integration,[17] using inexpensive commercial off-the-shelf components when possible,[18] and adopting the modular approach of modern software engineering, Musk believed SpaceX [...] In early 2002, Elon Musk started to look for staff for his company, soon to be named SpaceX. Musk approached five people for the initial positions at the fledgling company, including Griffin, who declined the position of Chief Engineer,[19]:\\u200a11\\u200a Jim Cantrell and John Garvey (Cantrell and Garvey would later found the company Vector Launch), rocket engineer Tom Mueller, and Chris Thompson.[19][20] SpaceX was first headquartered in a warehouse in El Segundo, California. Early SpaceX employees,\", 'score': 0.87218446}, Score: 0.87218446\n",
      "[DEBUG] [hybrid_fallback_retriever] Tavily Doc: {'title': 'Why did Elon Musk start SpaceX after PayPal? Did he have ... - Quora', 'url': 'https://www.quora.com/Why-did-Elon-Musk-start-SpaceX-after-PayPal-Did-he-have-any-plans-for-space-before-starting-SpaceX-or-was-it-just-another-project-like-Tesla', 'content': \"SpaceX was founded in 2002 with the goal of reducing space transportation costs and enabling the colonization of Mars. The company's business\", 'score': 0.8412138}, Score: 0.8412138\n",
      "[DEBUG] [hybrid_fallback_retriever] Tavily Doc: {'title': 'History of SpaceX - Wikipedia', 'url': 'https://en.wikipedia.org/wiki/History_of_SpaceX', 'content': \"After being ousted as the CEO of PayPal in late 2000, Elon Musk started to gain an interest in space exploration ventures. This spark of interest, according to Musk, came when he is being asked by his friend entrepreneur Adeo Ressi about his plan for the future after PayPal. Musk looked up at NASA's website and was surprised that NASA did not have any concrete plan for a human mission to Mars.[1]:\\u200a9–10\\u200a He then began to attend space conferences and provided funding for private space projects, [...] After the second failed attempt to procure a missile, the Mars Oasis plan was abandoned and Musk pondered the feasibility of building a rocket himself. As he learned more about the United States space industry, in retrospect, Musk realized that the Mars Oasis mission would more likely lead to an unsustainable Mars program, similar to how the Apollo program operated. According to Musk, the crucial component for a sustainable Mars program is a low launch cost.[1]:\\u200a11–12 [...] In early 2002, with that realization, Musk met with aerospace engineers at a hotel in Los Angeles International Airport to discuss founding a space launch company, with reportedly some having scoffed at the idea. In April, from that group he invited five that could join the company as early employees: Michael Griffin, Jim Cantrell, John Garvey, Tom Mueller, and Chris Thompson. Griffin, Cantrell and Garvey declined the invitation, while Mueller and Thompson became the company's first and second\", 'score': 0.7997713}, Score: 0.7997713\n",
      "\n",
      "\n",
      "\n",
      "Based on the context provided, it can be inferred that Elon Musk built SpaceX to accelerate the development of rocket technology with the goal of establishing a self-sustaining, permanent base on Mars. He sought out a stable customer to fund the early development of a rocket: NASA. His idea was to drum up public interest in exploration while also providing a science base on Mars through sending a greenhouse called Mars Oasis. However, the cost ended up being too high, and he started SpaceX instead.\n"
     ]
    }
   ],
   "source": [
    "# Test 5: General knowledge (high resources on internet)\n",
    "response = rag_chain.invoke(\"Why did Elon Musk build SpaceX?\")\n",
    "print(\"\\n\\n\") # Print 2 new lines\n",
    "print(response)"
   ]
  },
  {
   "cell_type": "code",
   "execution_count": 33,
   "metadata": {},
   "outputs": [
    {
     "name": "stdout",
     "output_type": "stream",
     "text": [
      "[DEBUG] [hybrid_fallback_retriever] Chroma Doc: page_content='employment, made him head of a department, and showed his good-will towards him in every way. Signor Castalotte was a bachelor, and I believe that he' metadata={'author': '', 'creationdate': '2014-03-15T14:16:40+01:00', 'creator': '', 'keywords': '', 'moddate': '2014-03-15T14:16:40+01:00', 'page': 787, 'page_label': '782', 'producer': '', 'ptex.fullbanner': 'This is pdfTeX, Version 3.1415926-2.5-1.40.14 (TeX Live 2013/MacPorts 2013_5) kpathsea version 6.1.1', 'source': 'data/document\\\\The Complete Sherlock Holmes.pdf', 'subject': '', 'title': '', 'total_pages': 987, 'trapped': '/False'}, Score: 0.8723361492156982\n",
      "[DEBUG] [hybrid_fallback_retriever] Chroma Doc: page_content='was, of course, for the propagation and spread of the red-heads as well as for their maintenance. It is exceedingly unfortunate that you should be a bachelor.’' metadata={'author': '', 'creationdate': '2014-03-15T14:16:40+01:00', 'creator': '', 'keywords': '', 'moddate': '2014-03-15T14:16:40+01:00', 'page': 145, 'page_label': '140', 'producer': '', 'ptex.fullbanner': 'This is pdfTeX, Version 3.1415926-2.5-1.40.14 (TeX Live 2013/MacPorts 2013_5) kpathsea version 6.1.1', 'source': 'data/document\\\\The Complete Sherlock Holmes.pdf', 'subject': '', 'title': '', 'total_pages': 987, 'trapped': '/False'}, Score: 0.8753636479377747\n",
      "[DEBUG] [hybrid_fallback_retriever] Chroma Doc: page_content='college, and got his Blue for the hurdles and the long jump. He is a ﬁne, manly fellow. His father was the notorious Sir Jabez Gilchrist, who ruined himself on' metadata={'author': '', 'creationdate': '2014-03-15T14:16:40+01:00', 'creator': '', 'keywords': '', 'moddate': '2014-03-15T14:16:40+01:00', 'page': 527, 'page_label': '522', 'producer': '', 'ptex.fullbanner': 'This is pdfTeX, Version 3.1415926-2.5-1.40.14 (TeX Live 2013/MacPorts 2013_5) kpathsea version 6.1.1', 'source': 'data/document\\\\The Complete Sherlock Holmes.pdf', 'subject': '', 'title': '', 'total_pages': 987, 'trapped': '/False'}, Score: 0.8838697671890259\n",
      "[DEBUG] [hybrid_fallback_retriever] Chroma Doc: page_content='It wasn’t difficult for someone to acquire a guild master’s license. A hunter just had to participate in at least twenty raids. After that, they could get a license' metadata={'creationdate': '', 'creator': 'PyPDF', 'page': 203, 'page_label': '204', 'producer': 'PyPDF', 'source': 'data/document\\\\Solo Leveling Volume 01 - PDF Room.pdf', 'total_pages': 297}, Score: 0.9010747671127319\n",
      "[DEBUG] [hybrid_fallback_retriever] Chroma Doc: page_content='a degree in science or any other recognized portal which would give him an entrance into the learned world. Yet his zeal for certain studies was remarkable,' metadata={'author': '', 'creationdate': '2014-03-15T14:16:40+01:00', 'creator': '', 'keywords': '', 'moddate': '2014-03-15T14:16:40+01:00', 'page': 16, 'page_label': '11', 'producer': '', 'ptex.fullbanner': 'This is pdfTeX, Version 3.1415926-2.5-1.40.14 (TeX Live 2013/MacPorts 2013_5) kpathsea version 6.1.1', 'source': 'data/document\\\\The Complete Sherlock Holmes.pdf', 'subject': '', 'title': '', 'total_pages': 987, 'trapped': '/False'}, Score: 0.908587634563446\n",
      "[DEBUG] [hybrid_fallback_retriever] There is no match in Chroma DB, processing with Tavily...\n",
      "[DEBUG] [hybrid_fallback_retriever] Tavily Doc: {'title': 'Ryan Garnet Andrianto - Software Engineer - Jatis Mobile - LinkedIn', 'url': 'https://id.linkedin.com/in/rygarto', 'content': \"Pendidikan. Gambar Institut Teknologi Sepuluh Nopember (ITS) · Institut Teknologi Sepuluh Nopember (ITS). Bachelor's degree Informatics Engineering 3.86/4.00.\", 'score': 0.7938904}, Score: 0.7938904\n",
      "[DEBUG] [hybrid_fallback_retriever] Tavily Doc: {'title': '[PDF] Finite State Machine and Matrix Representation for Solving ...', 'url': 'https://www.engineeringletters.com/issues_v33/issue_2/EL_33_2_21.pdf', 'content': 'Ryan Garnet Andrianto is a software engineer at PT Informasi Teknologi. Indonesia, Jakarta Selatan, Indonesia, and is a graduate of Institut. Teknologi', 'score': 0.76847315}, Score: 0.76847315\n",
      "[DEBUG] [hybrid_fallback_retriever] Tavily Doc: {'title': 'ryan andrianto - Indonesia | Profil Profesional - LinkedIn', 'url': 'https://id.linkedin.com/in/ryan-andrianto-958b8014a', 'content': 'Berkuliah di SMK Negeri 1 Pacitan · SMK Negeri 1 Pacitan · Indonesia · 4 koneksi di LinkedIn. Lihat profil ryan andrianto di LinkedIn, komunitas profesional', 'score': 0.29051313}, Score: 0.29051313\n",
      "[DEBUG] [hybrid_fallback_retriever] Tavily Doc: {'title': '[PDF] barriers and boosts: using inequity frames theory to expand ...', 'url': 'https://ltaylorphillips.com/wp-content/uploads/2022/07/PhillipsJunShakeri_BarriersBoosts_2022Annals.pdf', 'content': '2008. Five-factor personality correlates of perceptions of women’s body sizes. Personality and Individual Differences, 45: 697–699.\\nSwami, V., Frederick, D. A., Aavik, T., Alcalay, L., Allik, J., Anderson, D., Andrianto, S., Arora, A., Br€ annstr€ om, Å., Cunningham, J., Danel, D., Doroszewicz, K., Forbes, G. [...] Journal of Experimental Social Psychology, Journal of Personality and Social Psychology, Management Science, Organizational Behavior and Human Decision Processes, Organization Science, Personality and Social Psycho-logy Bulletin, Psychological Bulletin, and Psychological Science. [...] 3 Our review (Table 1) relied on the 2020 New York University Stern School of Business journal list to identify outlets (J. C. Magee, personal communication, September 3, 2020), focusing on empirical outlets across management, psychology, and sociology. The journals we used for our search were: Academy of Management Journal, Adminis-trative Science Quarterly, American Sociological Review, American Journal of Sociology, Journal of Applied Psychology, Journal of Experimental Psychology: General,', 'score': 0.050691362}, Score: 0.050691362\n",
      "[DEBUG] [hybrid_fallback_retriever] Tavily Doc: {'title': '[PDF] DEFORESTATION FRONTS - WWF', 'url': 'https://wwfint.awsassets.panda.org/downloads/deforestation_fronts___drivers_and_responses_in_a_changing_world___full_report_1.pdf', 'content': \"WWF is one of the world's largest and most experienced independent conservation organizations, with over 5 million supporters and a global network active in\", 'score': 0.027109984}, Score: 0.027109984\n",
      "\n",
      "\n",
      "\n",
      "Based on the context, it appears that Ryan Garnet Andrianto got his bachelor degree from Institut Teknologi Sepuluh Nopember (ITS).\n"
     ]
    }
   ],
   "source": [
    "# Test 6: General knowledge (low resources on internet)\n",
    "response = rag_chain.invoke(\"Where did Ryan Garnet Andrianto get his bachelor degree?\")\n",
    "print(\"\\n\\n\") # Print 2 new lines\n",
    "print(response)"
   ]
  },
  {
   "cell_type": "code",
   "execution_count": 34,
   "metadata": {},
   "outputs": [
    {
     "name": "stdout",
     "output_type": "stream",
     "text": [
      "[DEBUG] [hybrid_fallback_retriever] Chroma Doc: page_content='girl, I suppose!”. “No, it’s because you’re supposed to be the best at magic!” shot back Ron. Hermione jumped up and bits of roast pike slid oﬀ her tin plate onto the ﬂoor.' metadata={'author': 'J. K. Rowling', 'creationdate': '2007-07-23T04:17:48-07:00', 'creator': 'Dark Miasma', 'keywords': '', 'page': 300, 'page_label': '293', 'producer': 'pdfeTeX-1.21a', 'ptex.fullbanner': 'This is pdfeTeX, Version 3.141592-1.21a-2.2 (Web2C 7.5.4) kpathsea version 3.5.4', 'source': 'data/document\\\\Harry Potter And The Deathly Hallows.pdf', 'subject': '', 'title': 'Harry Potter and the Deathly Hallows', 'total_pages': 768}, Score: 0.6729204654693604\n",
      "[DEBUG] [hybrid_fallback_retriever] Chroma Doc: page_content='“A History of Magic, ” said Hermione, looking interested. “So your parents knew her? She was an incredible magic historian.”. “And she’s still alive,” said Harry, “and she lives in Godric’s' metadata={'author': 'J. K. Rowling', 'creationdate': '2007-07-23T04:17:48-07:00', 'creator': 'Dark Miasma', 'keywords': '', 'page': 191, 'page_label': '184', 'producer': 'pdfeTeX-1.21a', 'ptex.fullbanner': 'This is pdfeTeX, Version 3.141592-1.21a-2.2 (Web2C 7.5.4) kpathsea version 3.5.4', 'source': 'data/document\\\\Harry Potter And The Deathly Hallows.pdf', 'subject': '', 'title': 'Harry Potter and the Deathly Hallows', 'total_pages': 768}, Score: 0.7010506987571716\n",
      "[DEBUG] [hybrid_fallback_retriever] Chroma Doc: page_content='Another such easily satisﬁed friend of the family was Bathilda Bagshot, the celebrated magical historian who has lived in Godric’s Hollow for many years. Kendra, of course, had' metadata={'author': 'J. K. Rowling', 'creationdate': '2007-07-23T04:17:48-07:00', 'creator': 'Dark Miasma', 'keywords': '', 'page': 361, 'page_label': '354', 'producer': 'pdfeTeX-1.21a', 'ptex.fullbanner': 'This is pdfeTeX, Version 3.141592-1.21a-2.2 (Web2C 7.5.4) kpathsea version 3.5.4', 'source': 'data/document\\\\Harry Potter And The Deathly Hallows.pdf', 'subject': '', 'title': 'Harry Potter and the Deathly Hallows', 'total_pages': 768}, Score: 0.7207554578781128\n",
      "[DEBUG] [hybrid_fallback_retriever] Chroma Doc: page_content='“What are you talking about?”. “One of those superstitions, isn’t it? ‘May-born witches will marry Muggles.’ ‘Jinx by twilight, undone by midnight.’ ‘Wand of' metadata={'author': 'J. K. Rowling', 'creationdate': '2007-07-23T04:17:48-07:00', 'creator': 'Dark Miasma', 'keywords': '', 'page': 421, 'page_label': '414', 'producer': 'pdfeTeX-1.21a', 'ptex.fullbanner': 'This is pdfeTeX, Version 3.141592-1.21a-2.2 (Web2C 7.5.4) kpathsea version 3.5.4', 'source': 'data/document\\\\Harry Potter And The Deathly Hallows.pdf', 'subject': '', 'title': 'Harry Potter and the Deathly Hallows', 'total_pages': 768}, Score: 0.721336305141449\n",
      "[DEBUG] [hybrid_fallback_retriever] Chroma Doc: page_content='The Will of Albus Dumbledore of her wand and drape themselves artistically over the trees and bushes. “Nice,” said Ron, as with one ﬁnal ﬂourish of her wand, Her-' metadata={'author': 'J. K. Rowling', 'creationdate': '2007-07-23T04:17:48-07:00', 'creator': 'Dark Miasma', 'keywords': '', 'page': 126, 'page_label': '119', 'producer': 'pdfeTeX-1.21a', 'ptex.fullbanner': 'This is pdfeTeX, Version 3.141592-1.21a-2.2 (Web2C 7.5.4) kpathsea version 3.5.4', 'source': 'data/document\\\\Harry Potter And The Deathly Hallows.pdf', 'subject': '', 'title': 'Harry Potter and the Deathly Hallows', 'total_pages': 768}, Score: 0.7243648767471313\n",
      "\n",
      "\n",
      "\n",
      "Based on the context, the question is asking for a female friend who is good at magic. Given that Hermione is already known to be good at magic, the answer would be Hermione herself, as she is the one being referred to in the sentence.\n"
     ]
    }
   ],
   "source": [
    "# Test 7: Story knowledge (chroma)\n",
    "response = rag_chain.invoke(\"Who is Harry Potter female friend that is good at magic?\")\n",
    "print(\"\\n\\n\") # Print 2 new lines\n",
    "print(response)"
   ]
  },
  {
   "cell_type": "code",
   "execution_count": 27,
   "metadata": {},
   "outputs": [
    {
     "name": "stdout",
     "output_type": "stream",
     "text": [
      "[DEBUG] [hybrid_fallback_retriever] Chroma Doc: page_content='“‘Wit beyond measure is man’s greatest treasure.’ ”. “Which makes you pretty skint, witless,” said a cackling voice. Harry whirled around, slipped oﬀ the plinth, and landed on the' metadata={'author': 'J. K. Rowling', 'creationdate': '2007-07-23T04:17:48-07:00', 'creator': 'Dark Miasma', 'keywords': '', 'page': 595, 'page_label': '588', 'producer': 'pdfeTeX-1.21a', 'ptex.fullbanner': 'This is pdfeTeX, Version 3.141592-1.21a-2.2 (Web2C 7.5.4) kpathsea version 3.5.4', 'source': 'data/document\\\\Harry Potter And The Deathly Hallows.pdf', 'subject': '', 'title': 'Harry Potter and the Deathly Hallows', 'total_pages': 768}, Score: 0.6284981369972229\n",
      "[DEBUG] [hybrid_fallback_retriever] Chroma Doc: page_content='who staggered backward and fell into a nearby chair, clutching at the neck of her old tartan dressing gown. “I don’t think it makes any diﬀerence what we call him,” Harry' metadata={'author': 'J. K. Rowling', 'creationdate': '2007-07-23T04:17:48-07:00', 'creator': 'Dark Miasma', 'keywords': '', 'page': 601, 'page_label': '594', 'producer': 'pdfeTeX-1.21a', 'ptex.fullbanner': 'This is pdfeTeX, Version 3.141592-1.21a-2.2 (Web2C 7.5.4) kpathsea version 3.5.4', 'source': 'data/document\\\\Harry Potter And The Deathly Hallows.pdf', 'subject': '', 'title': 'Harry Potter and the Deathly Hallows', 'total_pages': 768}, Score: 0.6360243558883667\n",
      "[DEBUG] [hybrid_fallback_retriever] Chroma Doc: page_content='question. Slipping on the hot metal, Harry struggled to his feet and knew that the only way out was through. “Stupefy!” he bellowed, and Ron and Hermione joined in: Jets' metadata={'author': 'J. K. Rowling', 'creationdate': '2007-07-23T04:17:48-07:00', 'creator': 'Dark Miasma', 'keywords': '', 'page': 548, 'page_label': '541', 'producer': 'pdfeTeX-1.21a', 'ptex.fullbanner': 'This is pdfeTeX, Version 3.141592-1.21a-2.2 (Web2C 7.5.4) kpathsea version 3.5.4', 'source': 'data/document\\\\Harry Potter And The Deathly Hallows.pdf', 'subject': '', 'title': 'Harry Potter and the Deathly Hallows', 'total_pages': 768}, Score: 0.6555460691452026\n",
      "[DEBUG] [hybrid_fallback_retriever] Chroma Doc: page_content='miraculously alive. “Harry!” Knocking over two delicate tables and an aspidistra, he covered the ﬂoor between them in two strides and pulled Harry' metadata={'author': 'J. K. Rowling', 'creationdate': '2007-07-23T04:17:48-07:00', 'creator': 'Dark Miasma', 'keywords': '', 'page': 72, 'page_label': '65', 'producer': 'pdfeTeX-1.21a', 'ptex.fullbanner': 'This is pdfeTeX, Version 3.141592-1.21a-2.2 (Web2C 7.5.4) kpathsea version 3.5.4', 'source': 'data/document\\\\Harry Potter And The Deathly Hallows.pdf', 'subject': '', 'title': 'Harry Potter and the Deathly Hallows', 'total_pages': 768}, Score: 0.6563514471054077\n",
      "[DEBUG] [hybrid_fallback_retriever] Chroma Doc: page_content='Harry’s neck: A tall, think wizard with a crown of bushy gray hair and a long, sharp nose was striding toward them. “It’s Travers,” hissed the goblin into Harry’s ear, but at that' metadata={'author': 'J. K. Rowling', 'creationdate': '2007-07-23T04:17:48-07:00', 'creator': 'Dark Miasma', 'keywords': '', 'page': 533, 'page_label': '526', 'producer': 'pdfeTeX-1.21a', 'ptex.fullbanner': 'This is pdfeTeX, Version 3.141592-1.21a-2.2 (Web2C 7.5.4) kpathsea version 3.5.4', 'source': 'data/document\\\\Harry Potter And The Deathly Hallows.pdf', 'subject': '', 'title': 'Harry Potter and the Deathly Hallows', 'total_pages': 768}, Score: 0.6726837754249573\n",
      "\n",
      "\n",
      "\n",
      "Based on the context, it appears that Ron is the friend who is being described as clumsy in this passage. The text mentions \"Ron and Hermione\" joining in with Harry's \"Stupefy!\" spell, suggesting that Ron is one of Harry's friends. Additionally, the passage describes Ron as struggling to his feet after slipping, which implies clumsiness.\n"
     ]
    }
   ],
   "source": [
    "# Test 8: Story knowledge (chroma)\n",
    "response = rag_chain.invoke(\"Who is a friend of Harry that is clumsy?\")\n",
    "print(\"\\n\\n\") # Print 2 new lines\n",
    "print(response)"
   ]
  },
  {
   "cell_type": "code",
   "execution_count": 28,
   "metadata": {},
   "outputs": [
    {
     "name": "stdout",
     "output_type": "stream",
     "text": [
      "[DEBUG] [hybrid_fallback_retriever] Chroma Doc: page_content='might be blamed for Harry Potter’s continued existence. Voldemort, however, seemed to be speaking more to himself than to any 6' metadata={'author': 'J. K. Rowling', 'creationdate': '2007-07-23T04:17:48-07:00', 'creator': 'Dark Miasma', 'keywords': '', 'page': 13, 'page_label': '6', 'producer': 'pdfeTeX-1.21a', 'ptex.fullbanner': 'This is pdfeTeX, Version 3.141592-1.21a-2.2 (Web2C 7.5.4) kpathsea version 3.5.4', 'source': 'data/document\\\\Harry Potter And The Deathly Hallows.pdf', 'subject': '', 'title': 'Harry Potter and the Deathly Hallows', 'total_pages': 768}, Score: 0.6736656427383423\n",
      "[DEBUG] [hybrid_fallback_retriever] Chroma Doc: page_content='many mistakes where Harry Potter is concerned. Some of them have been my own. That Potter lives is due more to my errors than to his triumphs.”' metadata={'author': 'J. K. Rowling', 'creationdate': '2007-07-23T04:17:48-07:00', 'creator': 'Dark Miasma', 'keywords': '', 'page': 13, 'page_label': '6', 'producer': 'pdfeTeX-1.21a', 'ptex.fullbanner': 'This is pdfeTeX, Version 3.141592-1.21a-2.2 (Web2C 7.5.4) kpathsea version 3.5.4', 'source': 'data/document\\\\Harry Potter And The Deathly Hallows.pdf', 'subject': '', 'title': 'Harry Potter and the Deathly Hallows', 'total_pages': 768}, Score: 0.6791914701461792\n",
      "[DEBUG] [hybrid_fallback_retriever] Chroma Doc: page_content='neously terriﬁed and mesmerized. “Yes. The thing is . . . helping Harry Potter . . . rather danger401' metadata={'author': 'J. K. Rowling', 'creationdate': '2007-07-23T04:17:48-07:00', 'creator': 'Dark Miasma', 'keywords': '', 'page': 408, 'page_label': '401', 'producer': 'pdfeTeX-1.21a', 'ptex.fullbanner': 'This is pdfeTeX, Version 3.141592-1.21a-2.2 (Web2C 7.5.4) kpathsea version 3.5.4', 'source': 'data/document\\\\Harry Potter And The Deathly Hallows.pdf', 'subject': '', 'title': 'Harry Potter and the Deathly Hallows', 'total_pages': 768}, Score: 0.7311069369316101\n",
      "[DEBUG] [hybrid_fallback_retriever] Chroma Doc: page_content='her head, apparently as nonplussed as he was. “What’s the problem?” asked Harry. “Problem? There’s no problem,” said Ron, still refusing to look at Harry. “Not according to you, anyway.”' metadata={'author': 'J. K. Rowling', 'creationdate': '2007-07-23T04:17:48-07:00', 'creator': 'Dark Miasma', 'keywords': '', 'page': 313, 'page_label': '306', 'producer': 'pdfeTeX-1.21a', 'ptex.fullbanner': 'This is pdfeTeX, Version 3.141592-1.21a-2.2 (Web2C 7.5.4) kpathsea version 3.5.4', 'source': 'data/document\\\\Harry Potter And The Deathly Hallows.pdf', 'subject': '', 'title': 'Harry Potter and the Deathly Hallows', 'total_pages': 768}, Score: 0.7313260436058044\n",
      "[DEBUG] [hybrid_fallback_retriever] Chroma Doc: page_content='haps there are points which have escaped your Machiavellian intellect. Let us consider the problem in the light of pure reason. This man’s reference is to a book.' metadata={'author': '', 'creationdate': '2014-03-15T14:16:40+01:00', 'creator': '', 'keywords': '', 'moddate': '2014-03-15T14:16:40+01:00', 'page': 669, 'page_label': '664', 'producer': '', 'ptex.fullbanner': 'This is pdfTeX, Version 3.1415926-2.5-1.40.14 (TeX Live 2013/MacPorts 2013_5) kpathsea version 6.1.1', 'source': 'data/document\\\\The Complete Sherlock Holmes.pdf', 'subject': '', 'title': '', 'total_pages': 987, 'trapped': '/False'}, Score: 0.7329916954040527\n",
      "\n",
      "\n",
      "\n",
      "The real problem of Harry Potter is not that he exists, but rather the fact that Voldemort seems to be speaking about him in a way that implies blame for his continued existence, suggesting that Voldemort's own mistakes are responsible for Harry's survival. This indicates that Voldemort sees Harry as a threat and believes his own errors have allowed Harry to remain alive.\n",
      "\n",
      "This interpretation is reinforced by the context, which mentions \"many mistakes where Harry Potter is concerned\" and implies that Voldemort holds himself accountable for these mistakes. The fact that Voldemort speaks about Harry in this way suggests that he views him as a problem, but not necessarily because of who Harry is, but rather because of the circumstances surrounding his existence.\n",
      "\n",
      "Therefore, the real problem of Harry Potter, from Voldemort's perspective, seems to be less about who Harry is and more about how Voldemort perceives himself as having contributed to Harry's survival through his own errors.\n"
     ]
    }
   ],
   "source": [
    "# Test 8: Story knowledge (chroma)\n",
    "response = rag_chain.invoke(\"What is the real problem of Harry Potter?\")\n",
    "print(\"\\n\\n\") # Print 2 new lines\n",
    "print(response)"
   ]
  },
  {
   "cell_type": "code",
   "execution_count": 29,
   "metadata": {},
   "outputs": [
    {
     "name": "stdout",
     "output_type": "stream",
     "text": [
      "[DEBUG] [hybrid_fallback_retriever] Chroma Doc: page_content='the school!”. “Okay, then,” said Harry, defeated. “Forget Hogwarts.” Without any other leads, they traveled into London and, hidden' metadata={'author': 'J. K. Rowling', 'creationdate': '2007-07-23T04:17:48-07:00', 'creator': 'Dark Miasma', 'keywords': '', 'page': 297, 'page_label': '290', 'producer': 'pdfeTeX-1.21a', 'ptex.fullbanner': 'This is pdfeTeX, Version 3.141592-1.21a-2.2 (Web2C 7.5.4) kpathsea version 3.5.4', 'source': 'data/document\\\\Harry Potter And The Deathly Hallows.pdf', 'subject': '', 'title': 'Harry Potter and the Deathly Hallows', 'total_pages': 768}, Score: 0.542823314666748\n",
      "[DEBUG] [hybrid_fallback_retriever] Chroma Doc: page_content='You-Know-Who, it was Hogwarts!”. “Oh, come on,” scoﬀed Ron. “His school?”. “Yeah, his school! It was his ﬁrst real home, the place that' metadata={'author': 'J. K. Rowling', 'creationdate': '2007-07-23T04:17:48-07:00', 'creator': 'Dark Miasma', 'keywords': '', 'page': 296, 'page_label': '289', 'producer': 'pdfeTeX-1.21a', 'ptex.fullbanner': 'This is pdfeTeX, Version 3.141592-1.21a-2.2 (Web2C 7.5.4) kpathsea version 3.5.4', 'source': 'data/document\\\\Harry Potter And The Deathly Hallows.pdf', 'subject': '', 'title': 'Harry Potter and the Deathly Hallows', 'total_pages': 768}, Score: 0.5632606744766235\n",
      "[DEBUG] [hybrid_fallback_retriever] Chroma Doc: page_content='“Dumbledore had the Elder Wand?” said Ron. “But then— where is it now?”. “At Hogwarts,” said Harry, ﬁghting to remain with them in the cliﬀ-top garden.' metadata={'author': 'J. K. Rowling', 'creationdate': '2007-07-23T04:17:48-07:00', 'creator': 'Dark Miasma', 'keywords': '', 'page': 506, 'page_label': '499', 'producer': 'pdfeTeX-1.21a', 'ptex.fullbanner': 'This is pdfeTeX, Version 3.141592-1.21a-2.2 (Web2C 7.5.4) kpathsea version 3.5.4', 'source': 'data/document\\\\Harry Potter And The Deathly Hallows.pdf', 'subject': '', 'title': 'Harry Potter and the Deathly Hallows', 'total_pages': 768}, Score: 0.5911333560943604\n",
      "[DEBUG] [hybrid_fallback_retriever] Chroma Doc: page_content='was absurd. . . . As for the school: He alone knew where in Hogwarts he had stowed the Horcrux, because he alone had plumed the deepest secrets of that place . . .' metadata={'author': 'J. K. Rowling', 'creationdate': '2007-07-23T04:17:48-07:00', 'creator': 'Dark Miasma', 'keywords': '', 'page': 557, 'page_label': '550', 'producer': 'pdfeTeX-1.21a', 'ptex.fullbanner': 'This is pdfeTeX, Version 3.141592-1.21a-2.2 (Web2C 7.5.4) kpathsea version 3.5.4', 'source': 'data/document\\\\Harry Potter And The Deathly Hallows.pdf', 'subject': '', 'title': 'Harry Potter and the Deathly Hallows', 'total_pages': 768}, Score: 0.6072324514389038\n",
      "[DEBUG] [hybrid_fallback_retriever] Chroma Doc: page_content='left it?”. “Not at Hogwarts,” said Harry, resuming his pacing. “Somewhere in Hogsmeade?” suggested Hermione. “The Shrieking Shack?” said Harry. “Nobody ever goes in there.”' metadata={'author': 'J. K. Rowling', 'creationdate': '2007-07-23T04:17:48-07:00', 'creator': 'Dark Miasma', 'keywords': '', 'page': 312, 'page_label': '305', 'producer': 'pdfeTeX-1.21a', 'ptex.fullbanner': 'This is pdfeTeX, Version 3.141592-1.21a-2.2 (Web2C 7.5.4) kpathsea version 3.5.4', 'source': 'data/document\\\\Harry Potter And The Deathly Hallows.pdf', 'subject': '', 'title': 'Harry Potter and the Deathly Hallows', 'total_pages': 768}, Score: 0.6154320240020752\n",
      "\n",
      "\n",
      "\n",
      "There is no answer to the question \"How did Harry Potter ended up at Hogwarts?\" because the context provided does not mention how he got there initially. The conversation starts with Harry saying \"Forget Hogwarts\", suggesting that he was already familiar with the school and had previously been there.\n"
     ]
    }
   ],
   "source": [
    "# Test 9: Story knowledge (chroma)\n",
    "response = rag_chain.invoke(\"How did Harry Potter ended up at Hogwarts?\")\n",
    "print(\"\\n\\n\") # Print 2 new lines\n",
    "print(response)"
   ]
  }
 ],
 "metadata": {
  "kernelspec": {
   "display_name": "llm-retriever-and-tavily-odsGf3C6-py3.10",
   "language": "python",
   "name": "python3"
  },
  "language_info": {
   "codemirror_mode": {
    "name": "ipython",
    "version": 3
   },
   "file_extension": ".py",
   "mimetype": "text/x-python",
   "name": "python",
   "nbconvert_exporter": "python",
   "pygments_lexer": "ipython3",
   "version": "3.10.0"
  }
 },
 "nbformat": 4,
 "nbformat_minor": 2
}
